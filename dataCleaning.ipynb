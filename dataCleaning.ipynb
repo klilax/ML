{
 "cells": [
  {
   "cell_type": "code",
   "execution_count": 1,
   "metadata": {
    "collapsed": true
   },
   "outputs": [],
   "source": [
    "import pandas as pd"
   ]
  },
  {
   "cell_type": "code",
   "execution_count": 2,
   "outputs": [
    {
     "data": {
      "text/plain": "    Unnamed: 0 hospital gender  age  height  weight   bmi    diagnosis  \\\n0            0  general    man   33    1.64      66  24.9         cold   \n1            1  general    man   48    1.93     106  28.4      stomach   \n2            2  general  woman   23    1.54      63  26.8         cold   \n3            3  general    man   27    1.94     103  27.5      stomach   \n4            4  general  woman   22    1.76      74  24.0  dislocation   \n5            5  general    man   46    1.90      96  26.6        heart   \n6            6  general  woman   68    1.80      85  26.4      stomach   \n7            7  general    man   35    1.57      61  25.0         cold   \n8            8  general  woman   50    1.86      86  25.0       sprain   \n9            9  general    man   25    1.79      82  25.5        heart   \n10          10  general    man   27    1.85      86  25.2        heart   \n11          11  general    man   57    1.86      95  27.5      stomach   \n12          12  general    man   29    1.88     100  28.6  dislocation   \n13          13  general  woman   18    1.70      80  27.8        heart   \n14          14  general  woman   47    1.80      83  25.9      stomach   \n15          15  general  woman   51    1.87     103  29.5         cold   \n16          16  general  woman   56    1.56      57  23.8     fracture   \n17          17  general  woman   38    1.62      71  27.3        heart   \n18          18  general  woman   32    1.72      77  26.3         cold   \n19          19  general  woman   69    1.72      80  27.2  dislocation   \n\n   blood_test  ecg ultrasound  mri xray  children  months  \n0           t  NaN        NaN  NaN  NaN       NaN     NaN  \n1           t  NaN          t  NaN  NaN       NaN     NaN  \n2           t  NaN        NaN  NaN  NaN       NaN     NaN  \n3           t  NaN          t  NaN  NaN       NaN     NaN  \n4         NaN  NaN        NaN  NaN    f       NaN     NaN  \n5           t    t        NaN  NaN  NaN       NaN     NaN  \n6           f  NaN          f  NaN  NaN       NaN     NaN  \n7           t  NaN        NaN  NaN  NaN       NaN     NaN  \n8         NaN  NaN        NaN  NaN    f       NaN     NaN  \n9           t    t        NaN  NaN  NaN       NaN     NaN  \n10          t    t        NaN  NaN  NaN       NaN     NaN  \n11          f  NaN          f  NaN  NaN       NaN     NaN  \n12        NaN  NaN        NaN  NaN    f       NaN     NaN  \n13          f    t        NaN  NaN  NaN       NaN     NaN  \n14          t  NaN          f  NaN  NaN       NaN     NaN  \n15          f  NaN        NaN  NaN  NaN       NaN     NaN  \n16        NaN  NaN        NaN  NaN    t       NaN     NaN  \n17          t    t        NaN  NaN  NaN       NaN     NaN  \n18          t  NaN        NaN  NaN  NaN       NaN     NaN  \n19        NaN  NaN        NaN  NaN    f       NaN     NaN  ",
      "text/html": "<div>\n<style scoped>\n    .dataframe tbody tr th:only-of-type {\n        vertical-align: middle;\n    }\n\n    .dataframe tbody tr th {\n        vertical-align: top;\n    }\n\n    .dataframe thead th {\n        text-align: right;\n    }\n</style>\n<table border=\"1\" class=\"dataframe\">\n  <thead>\n    <tr style=\"text-align: right;\">\n      <th></th>\n      <th>Unnamed: 0</th>\n      <th>hospital</th>\n      <th>gender</th>\n      <th>age</th>\n      <th>height</th>\n      <th>weight</th>\n      <th>bmi</th>\n      <th>diagnosis</th>\n      <th>blood_test</th>\n      <th>ecg</th>\n      <th>ultrasound</th>\n      <th>mri</th>\n      <th>xray</th>\n      <th>children</th>\n      <th>months</th>\n    </tr>\n  </thead>\n  <tbody>\n    <tr>\n      <th>0</th>\n      <td>0</td>\n      <td>general</td>\n      <td>man</td>\n      <td>33</td>\n      <td>1.64</td>\n      <td>66</td>\n      <td>24.9</td>\n      <td>cold</td>\n      <td>t</td>\n      <td>NaN</td>\n      <td>NaN</td>\n      <td>NaN</td>\n      <td>NaN</td>\n      <td>NaN</td>\n      <td>NaN</td>\n    </tr>\n    <tr>\n      <th>1</th>\n      <td>1</td>\n      <td>general</td>\n      <td>man</td>\n      <td>48</td>\n      <td>1.93</td>\n      <td>106</td>\n      <td>28.4</td>\n      <td>stomach</td>\n      <td>t</td>\n      <td>NaN</td>\n      <td>t</td>\n      <td>NaN</td>\n      <td>NaN</td>\n      <td>NaN</td>\n      <td>NaN</td>\n    </tr>\n    <tr>\n      <th>2</th>\n      <td>2</td>\n      <td>general</td>\n      <td>woman</td>\n      <td>23</td>\n      <td>1.54</td>\n      <td>63</td>\n      <td>26.8</td>\n      <td>cold</td>\n      <td>t</td>\n      <td>NaN</td>\n      <td>NaN</td>\n      <td>NaN</td>\n      <td>NaN</td>\n      <td>NaN</td>\n      <td>NaN</td>\n    </tr>\n    <tr>\n      <th>3</th>\n      <td>3</td>\n      <td>general</td>\n      <td>man</td>\n      <td>27</td>\n      <td>1.94</td>\n      <td>103</td>\n      <td>27.5</td>\n      <td>stomach</td>\n      <td>t</td>\n      <td>NaN</td>\n      <td>t</td>\n      <td>NaN</td>\n      <td>NaN</td>\n      <td>NaN</td>\n      <td>NaN</td>\n    </tr>\n    <tr>\n      <th>4</th>\n      <td>4</td>\n      <td>general</td>\n      <td>woman</td>\n      <td>22</td>\n      <td>1.76</td>\n      <td>74</td>\n      <td>24.0</td>\n      <td>dislocation</td>\n      <td>NaN</td>\n      <td>NaN</td>\n      <td>NaN</td>\n      <td>NaN</td>\n      <td>f</td>\n      <td>NaN</td>\n      <td>NaN</td>\n    </tr>\n    <tr>\n      <th>5</th>\n      <td>5</td>\n      <td>general</td>\n      <td>man</td>\n      <td>46</td>\n      <td>1.90</td>\n      <td>96</td>\n      <td>26.6</td>\n      <td>heart</td>\n      <td>t</td>\n      <td>t</td>\n      <td>NaN</td>\n      <td>NaN</td>\n      <td>NaN</td>\n      <td>NaN</td>\n      <td>NaN</td>\n    </tr>\n    <tr>\n      <th>6</th>\n      <td>6</td>\n      <td>general</td>\n      <td>woman</td>\n      <td>68</td>\n      <td>1.80</td>\n      <td>85</td>\n      <td>26.4</td>\n      <td>stomach</td>\n      <td>f</td>\n      <td>NaN</td>\n      <td>f</td>\n      <td>NaN</td>\n      <td>NaN</td>\n      <td>NaN</td>\n      <td>NaN</td>\n    </tr>\n    <tr>\n      <th>7</th>\n      <td>7</td>\n      <td>general</td>\n      <td>man</td>\n      <td>35</td>\n      <td>1.57</td>\n      <td>61</td>\n      <td>25.0</td>\n      <td>cold</td>\n      <td>t</td>\n      <td>NaN</td>\n      <td>NaN</td>\n      <td>NaN</td>\n      <td>NaN</td>\n      <td>NaN</td>\n      <td>NaN</td>\n    </tr>\n    <tr>\n      <th>8</th>\n      <td>8</td>\n      <td>general</td>\n      <td>woman</td>\n      <td>50</td>\n      <td>1.86</td>\n      <td>86</td>\n      <td>25.0</td>\n      <td>sprain</td>\n      <td>NaN</td>\n      <td>NaN</td>\n      <td>NaN</td>\n      <td>NaN</td>\n      <td>f</td>\n      <td>NaN</td>\n      <td>NaN</td>\n    </tr>\n    <tr>\n      <th>9</th>\n      <td>9</td>\n      <td>general</td>\n      <td>man</td>\n      <td>25</td>\n      <td>1.79</td>\n      <td>82</td>\n      <td>25.5</td>\n      <td>heart</td>\n      <td>t</td>\n      <td>t</td>\n      <td>NaN</td>\n      <td>NaN</td>\n      <td>NaN</td>\n      <td>NaN</td>\n      <td>NaN</td>\n    </tr>\n    <tr>\n      <th>10</th>\n      <td>10</td>\n      <td>general</td>\n      <td>man</td>\n      <td>27</td>\n      <td>1.85</td>\n      <td>86</td>\n      <td>25.2</td>\n      <td>heart</td>\n      <td>t</td>\n      <td>t</td>\n      <td>NaN</td>\n      <td>NaN</td>\n      <td>NaN</td>\n      <td>NaN</td>\n      <td>NaN</td>\n    </tr>\n    <tr>\n      <th>11</th>\n      <td>11</td>\n      <td>general</td>\n      <td>man</td>\n      <td>57</td>\n      <td>1.86</td>\n      <td>95</td>\n      <td>27.5</td>\n      <td>stomach</td>\n      <td>f</td>\n      <td>NaN</td>\n      <td>f</td>\n      <td>NaN</td>\n      <td>NaN</td>\n      <td>NaN</td>\n      <td>NaN</td>\n    </tr>\n    <tr>\n      <th>12</th>\n      <td>12</td>\n      <td>general</td>\n      <td>man</td>\n      <td>29</td>\n      <td>1.88</td>\n      <td>100</td>\n      <td>28.6</td>\n      <td>dislocation</td>\n      <td>NaN</td>\n      <td>NaN</td>\n      <td>NaN</td>\n      <td>NaN</td>\n      <td>f</td>\n      <td>NaN</td>\n      <td>NaN</td>\n    </tr>\n    <tr>\n      <th>13</th>\n      <td>13</td>\n      <td>general</td>\n      <td>woman</td>\n      <td>18</td>\n      <td>1.70</td>\n      <td>80</td>\n      <td>27.8</td>\n      <td>heart</td>\n      <td>f</td>\n      <td>t</td>\n      <td>NaN</td>\n      <td>NaN</td>\n      <td>NaN</td>\n      <td>NaN</td>\n      <td>NaN</td>\n    </tr>\n    <tr>\n      <th>14</th>\n      <td>14</td>\n      <td>general</td>\n      <td>woman</td>\n      <td>47</td>\n      <td>1.80</td>\n      <td>83</td>\n      <td>25.9</td>\n      <td>stomach</td>\n      <td>t</td>\n      <td>NaN</td>\n      <td>f</td>\n      <td>NaN</td>\n      <td>NaN</td>\n      <td>NaN</td>\n      <td>NaN</td>\n    </tr>\n    <tr>\n      <th>15</th>\n      <td>15</td>\n      <td>general</td>\n      <td>woman</td>\n      <td>51</td>\n      <td>1.87</td>\n      <td>103</td>\n      <td>29.5</td>\n      <td>cold</td>\n      <td>f</td>\n      <td>NaN</td>\n      <td>NaN</td>\n      <td>NaN</td>\n      <td>NaN</td>\n      <td>NaN</td>\n      <td>NaN</td>\n    </tr>\n    <tr>\n      <th>16</th>\n      <td>16</td>\n      <td>general</td>\n      <td>woman</td>\n      <td>56</td>\n      <td>1.56</td>\n      <td>57</td>\n      <td>23.8</td>\n      <td>fracture</td>\n      <td>NaN</td>\n      <td>NaN</td>\n      <td>NaN</td>\n      <td>NaN</td>\n      <td>t</td>\n      <td>NaN</td>\n      <td>NaN</td>\n    </tr>\n    <tr>\n      <th>17</th>\n      <td>17</td>\n      <td>general</td>\n      <td>woman</td>\n      <td>38</td>\n      <td>1.62</td>\n      <td>71</td>\n      <td>27.3</td>\n      <td>heart</td>\n      <td>t</td>\n      <td>t</td>\n      <td>NaN</td>\n      <td>NaN</td>\n      <td>NaN</td>\n      <td>NaN</td>\n      <td>NaN</td>\n    </tr>\n    <tr>\n      <th>18</th>\n      <td>18</td>\n      <td>general</td>\n      <td>woman</td>\n      <td>32</td>\n      <td>1.72</td>\n      <td>77</td>\n      <td>26.3</td>\n      <td>cold</td>\n      <td>t</td>\n      <td>NaN</td>\n      <td>NaN</td>\n      <td>NaN</td>\n      <td>NaN</td>\n      <td>NaN</td>\n      <td>NaN</td>\n    </tr>\n    <tr>\n      <th>19</th>\n      <td>19</td>\n      <td>general</td>\n      <td>woman</td>\n      <td>69</td>\n      <td>1.72</td>\n      <td>80</td>\n      <td>27.2</td>\n      <td>dislocation</td>\n      <td>NaN</td>\n      <td>NaN</td>\n      <td>NaN</td>\n      <td>NaN</td>\n      <td>f</td>\n      <td>NaN</td>\n      <td>NaN</td>\n    </tr>\n  </tbody>\n</table>\n</div>"
     },
     "execution_count": 2,
     "metadata": {},
     "output_type": "execute_result"
    }
   ],
   "source": [
    "general = pd.read_csv('test/general.csv')\n",
    "general.head(20)"
   ],
   "metadata": {
    "collapsed": false,
    "pycharm": {
     "name": "#%%\n"
    }
   }
  },
  {
   "cell_type": "code",
   "execution_count": 3,
   "outputs": [
    {
     "data": {
      "text/plain": "Unnamed: 0    0.000000\nhospital      0.000000\ngender        0.000000\nage           0.000000\nheight        0.000000\nweight        0.000000\nbmi           0.000000\ndiagnosis     0.000000\nblood_test    0.156182\necg           0.867679\nultrasound    0.663774\nmri           1.000000\nxray          0.843818\nchildren      1.000000\nmonths        0.989154\ndtype: float64"
     },
     "execution_count": 3,
     "metadata": {},
     "output_type": "execute_result"
    }
   ],
   "source": [
    "general.isnull().sum() / general.shape[0]"
   ],
   "metadata": {
    "collapsed": false,
    "pycharm": {
     "name": "#%%\n"
    }
   }
  },
  {
   "cell_type": "code",
   "execution_count": 4,
   "outputs": [
    {
     "data": {
      "text/plain": "Unnamed: 0    False\nhospital      False\ngender        False\nage           False\nheight        False\nweight        False\nbmi           False\ndiagnosis     False\nblood_test     True\necg            True\nultrasound     True\nmri            True\nxray           True\nchildren       True\nmonths         True\ndtype: bool"
     },
     "execution_count": 4,
     "metadata": {},
     "output_type": "execute_result"
    }
   ],
   "source": [
    "general.isnull().any()"
   ],
   "metadata": {
    "collapsed": false,
    "pycharm": {
     "name": "#%%\n"
    }
   }
  },
  {
   "cell_type": "code",
   "execution_count": 5,
   "outputs": [
    {
     "data": {
      "text/plain": "    Unnamed: 0 hospital gender  age  height  weight   bmi    diagnosis\n0            0  general    man   33    1.64      66  24.9         cold\n1            1  general    man   48    1.93     106  28.4      stomach\n2            2  general  woman   23    1.54      63  26.8         cold\n3            3  general    man   27    1.94     103  27.5      stomach\n4            4  general  woman   22    1.76      74  24.0  dislocation\n5            5  general    man   46    1.90      96  26.6        heart\n6            6  general  woman   68    1.80      85  26.4      stomach\n7            7  general    man   35    1.57      61  25.0         cold\n8            8  general  woman   50    1.86      86  25.0       sprain\n9            9  general    man   25    1.79      82  25.5        heart\n10          10  general    man   27    1.85      86  25.2        heart\n11          11  general    man   57    1.86      95  27.5      stomach\n12          12  general    man   29    1.88     100  28.6  dislocation\n13          13  general  woman   18    1.70      80  27.8        heart\n14          14  general  woman   47    1.80      83  25.9      stomach\n15          15  general  woman   51    1.87     103  29.5         cold\n16          16  general  woman   56    1.56      57  23.8     fracture\n17          17  general  woman   38    1.62      71  27.3        heart\n18          18  general  woman   32    1.72      77  26.3         cold\n19          19  general  woman   69    1.72      80  27.2  dislocation",
      "text/html": "<div>\n<style scoped>\n    .dataframe tbody tr th:only-of-type {\n        vertical-align: middle;\n    }\n\n    .dataframe tbody tr th {\n        vertical-align: top;\n    }\n\n    .dataframe thead th {\n        text-align: right;\n    }\n</style>\n<table border=\"1\" class=\"dataframe\">\n  <thead>\n    <tr style=\"text-align: right;\">\n      <th></th>\n      <th>Unnamed: 0</th>\n      <th>hospital</th>\n      <th>gender</th>\n      <th>age</th>\n      <th>height</th>\n      <th>weight</th>\n      <th>bmi</th>\n      <th>diagnosis</th>\n    </tr>\n  </thead>\n  <tbody>\n    <tr>\n      <th>0</th>\n      <td>0</td>\n      <td>general</td>\n      <td>man</td>\n      <td>33</td>\n      <td>1.64</td>\n      <td>66</td>\n      <td>24.9</td>\n      <td>cold</td>\n    </tr>\n    <tr>\n      <th>1</th>\n      <td>1</td>\n      <td>general</td>\n      <td>man</td>\n      <td>48</td>\n      <td>1.93</td>\n      <td>106</td>\n      <td>28.4</td>\n      <td>stomach</td>\n    </tr>\n    <tr>\n      <th>2</th>\n      <td>2</td>\n      <td>general</td>\n      <td>woman</td>\n      <td>23</td>\n      <td>1.54</td>\n      <td>63</td>\n      <td>26.8</td>\n      <td>cold</td>\n    </tr>\n    <tr>\n      <th>3</th>\n      <td>3</td>\n      <td>general</td>\n      <td>man</td>\n      <td>27</td>\n      <td>1.94</td>\n      <td>103</td>\n      <td>27.5</td>\n      <td>stomach</td>\n    </tr>\n    <tr>\n      <th>4</th>\n      <td>4</td>\n      <td>general</td>\n      <td>woman</td>\n      <td>22</td>\n      <td>1.76</td>\n      <td>74</td>\n      <td>24.0</td>\n      <td>dislocation</td>\n    </tr>\n    <tr>\n      <th>5</th>\n      <td>5</td>\n      <td>general</td>\n      <td>man</td>\n      <td>46</td>\n      <td>1.90</td>\n      <td>96</td>\n      <td>26.6</td>\n      <td>heart</td>\n    </tr>\n    <tr>\n      <th>6</th>\n      <td>6</td>\n      <td>general</td>\n      <td>woman</td>\n      <td>68</td>\n      <td>1.80</td>\n      <td>85</td>\n      <td>26.4</td>\n      <td>stomach</td>\n    </tr>\n    <tr>\n      <th>7</th>\n      <td>7</td>\n      <td>general</td>\n      <td>man</td>\n      <td>35</td>\n      <td>1.57</td>\n      <td>61</td>\n      <td>25.0</td>\n      <td>cold</td>\n    </tr>\n    <tr>\n      <th>8</th>\n      <td>8</td>\n      <td>general</td>\n      <td>woman</td>\n      <td>50</td>\n      <td>1.86</td>\n      <td>86</td>\n      <td>25.0</td>\n      <td>sprain</td>\n    </tr>\n    <tr>\n      <th>9</th>\n      <td>9</td>\n      <td>general</td>\n      <td>man</td>\n      <td>25</td>\n      <td>1.79</td>\n      <td>82</td>\n      <td>25.5</td>\n      <td>heart</td>\n    </tr>\n    <tr>\n      <th>10</th>\n      <td>10</td>\n      <td>general</td>\n      <td>man</td>\n      <td>27</td>\n      <td>1.85</td>\n      <td>86</td>\n      <td>25.2</td>\n      <td>heart</td>\n    </tr>\n    <tr>\n      <th>11</th>\n      <td>11</td>\n      <td>general</td>\n      <td>man</td>\n      <td>57</td>\n      <td>1.86</td>\n      <td>95</td>\n      <td>27.5</td>\n      <td>stomach</td>\n    </tr>\n    <tr>\n      <th>12</th>\n      <td>12</td>\n      <td>general</td>\n      <td>man</td>\n      <td>29</td>\n      <td>1.88</td>\n      <td>100</td>\n      <td>28.6</td>\n      <td>dislocation</td>\n    </tr>\n    <tr>\n      <th>13</th>\n      <td>13</td>\n      <td>general</td>\n      <td>woman</td>\n      <td>18</td>\n      <td>1.70</td>\n      <td>80</td>\n      <td>27.8</td>\n      <td>heart</td>\n    </tr>\n    <tr>\n      <th>14</th>\n      <td>14</td>\n      <td>general</td>\n      <td>woman</td>\n      <td>47</td>\n      <td>1.80</td>\n      <td>83</td>\n      <td>25.9</td>\n      <td>stomach</td>\n    </tr>\n    <tr>\n      <th>15</th>\n      <td>15</td>\n      <td>general</td>\n      <td>woman</td>\n      <td>51</td>\n      <td>1.87</td>\n      <td>103</td>\n      <td>29.5</td>\n      <td>cold</td>\n    </tr>\n    <tr>\n      <th>16</th>\n      <td>16</td>\n      <td>general</td>\n      <td>woman</td>\n      <td>56</td>\n      <td>1.56</td>\n      <td>57</td>\n      <td>23.8</td>\n      <td>fracture</td>\n    </tr>\n    <tr>\n      <th>17</th>\n      <td>17</td>\n      <td>general</td>\n      <td>woman</td>\n      <td>38</td>\n      <td>1.62</td>\n      <td>71</td>\n      <td>27.3</td>\n      <td>heart</td>\n    </tr>\n    <tr>\n      <th>18</th>\n      <td>18</td>\n      <td>general</td>\n      <td>woman</td>\n      <td>32</td>\n      <td>1.72</td>\n      <td>77</td>\n      <td>26.3</td>\n      <td>cold</td>\n    </tr>\n    <tr>\n      <th>19</th>\n      <td>19</td>\n      <td>general</td>\n      <td>woman</td>\n      <td>69</td>\n      <td>1.72</td>\n      <td>80</td>\n      <td>27.2</td>\n      <td>dislocation</td>\n    </tr>\n  </tbody>\n</table>\n</div>"
     },
     "execution_count": 5,
     "metadata": {},
     "output_type": "execute_result"
    }
   ],
   "source": [
    "general_col = general.dropna(axis=1)\n",
    "general_col.head(20)"
   ],
   "metadata": {
    "collapsed": false,
    "pycharm": {
     "name": "#%%\n"
    }
   }
  },
  {
   "cell_type": "code",
   "execution_count": 6,
   "outputs": [
    {
     "data": {
      "text/plain": "Empty DataFrame\nColumns: [Unnamed: 0, hospital, gender, age, height, weight, bmi, diagnosis, blood_test, ecg, ultrasound, mri, xray, children, months]\nIndex: []",
      "text/html": "<div>\n<style scoped>\n    .dataframe tbody tr th:only-of-type {\n        vertical-align: middle;\n    }\n\n    .dataframe tbody tr th {\n        vertical-align: top;\n    }\n\n    .dataframe thead th {\n        text-align: right;\n    }\n</style>\n<table border=\"1\" class=\"dataframe\">\n  <thead>\n    <tr style=\"text-align: right;\">\n      <th></th>\n      <th>Unnamed: 0</th>\n      <th>hospital</th>\n      <th>gender</th>\n      <th>age</th>\n      <th>height</th>\n      <th>weight</th>\n      <th>bmi</th>\n      <th>diagnosis</th>\n      <th>blood_test</th>\n      <th>ecg</th>\n      <th>ultrasound</th>\n      <th>mri</th>\n      <th>xray</th>\n      <th>children</th>\n      <th>months</th>\n    </tr>\n  </thead>\n  <tbody>\n  </tbody>\n</table>\n</div>"
     },
     "execution_count": 6,
     "metadata": {},
     "output_type": "execute_result"
    }
   ],
   "source": [
    "general_row = general.dropna(axis=0)\n",
    "general_row.head(20)"
   ],
   "metadata": {
    "collapsed": false,
    "pycharm": {
     "name": "#%%\n"
    }
   }
  },
  {
   "cell_type": "code",
   "execution_count": 7,
   "outputs": [
    {
     "name": "stdout",
     "output_type": "stream",
     "text": [
      "year      0.200000\n",
      "degree    0.533333\n",
      "age       0.200000\n",
      "dtype: float64\n"
     ]
    }
   ],
   "source": [
    "student_df = pd.read_csv('datacleanup/input.txt')\n",
    "print(student_df.isnull().sum() / student_df.shape[0])\n",
    "pd.options.display.float_format = '{:.2f}'.format"
   ],
   "metadata": {
    "collapsed": false,
    "pycharm": {
     "name": "#%%\n"
    }
   }
  },
  {
   "cell_type": "code",
   "execution_count": 11,
   "outputs": [
    {
     "data": {
      "text/plain": "1"
     },
     "execution_count": 11,
     "metadata": {},
     "output_type": "execute_result"
    }
   ],
   "source": [
    "student_age_df = pd.read_csv('datacleanup/countNan.txt')\n",
    "student_age_df.isnull().any().sum()"
   ],
   "metadata": {
    "collapsed": false,
    "pycharm": {
     "name": "#%%\n"
    }
   }
  },
  {
   "cell_type": "code",
   "execution_count": 13,
   "outputs": [
    {
     "data": {
      "text/plain": "15"
     },
     "execution_count": 13,
     "metadata": {},
     "output_type": "execute_result"
    }
   ],
   "source": [
    "student_rm_df = pd.read_csv('datacleanup/removeNan.txt')\n",
    "student_rm_df.shape[0]"
   ],
   "metadata": {
    "collapsed": false,
    "pycharm": {
     "name": "#%%\n"
    }
   }
  },
  {
   "cell_type": "code",
   "execution_count": 14,
   "outputs": [
    {
     "data": {
      "text/plain": "7"
     },
     "execution_count": 14,
     "metadata": {},
     "output_type": "execute_result"
    }
   ],
   "source": [
    "student_nonan_df = student_rm_df.dropna(axis=0)\n",
    "student_nonan_df.shape[0]"
   ],
   "metadata": {
    "collapsed": false,
    "pycharm": {
     "name": "#%%\n"
    }
   }
  },
  {
   "cell_type": "code",
   "execution_count": null,
   "outputs": [],
   "source": [],
   "metadata": {
    "collapsed": false,
    "pycharm": {
     "name": "#%%\n"
    }
   }
  }
 ],
 "metadata": {
  "kernelspec": {
   "display_name": "Python 3",
   "language": "python",
   "name": "python3"
  },
  "language_info": {
   "codemirror_mode": {
    "name": "ipython",
    "version": 2
   },
   "file_extension": ".py",
   "mimetype": "text/x-python",
   "name": "python",
   "nbconvert_exporter": "python",
   "pygments_lexer": "ipython2",
   "version": "2.7.6"
  }
 },
 "nbformat": 4,
 "nbformat_minor": 0
}