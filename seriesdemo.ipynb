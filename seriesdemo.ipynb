{
 "cells": [
  {
   "cell_type": "code",
   "execution_count": 1,
   "metadata": {
    "collapsed": true
   },
   "outputs": [],
   "source": [
    "import pandas as pd\n",
    "import pandas as ps"
   ]
  },
  {
   "cell_type": "code",
   "execution_count": 2,
   "outputs": [],
   "source": [
    "ages_list = [21, 20, 25, 22]\n",
    "names_list = ['Anna', 'Bob', 'Maria', 'Jack']"
   ],
   "metadata": {
    "collapsed": false,
    "pycharm": {
     "name": "#%%\n"
    }
   }
  },
  {
   "cell_type": "code",
   "execution_count": 3,
   "outputs": [],
   "source": [
    "student_ages_dict = {'Anna': 21, 'Bob': 20, 'Maria': 25, 'Jack': 22}\n",
    "# ages_series = pd.Series(student_ages_dict, name='Ages') from a dictionary"
   ],
   "metadata": {
    "collapsed": false,
    "pycharm": {
     "name": "#%%\n"
    }
   }
  },
  {
   "cell_type": "code",
   "execution_count": 4,
   "outputs": [
    {
     "name": "stdout",
     "output_type": "stream",
     "text": [
      "Anna     21\n",
      "Bob      20\n",
      "Maria    25\n",
      "Jack     22\n",
      "Name: Age, dtype: int64\n"
     ]
    }
   ],
   "source": [
    "ages_series = ps.Series(ages_list, index=names_list, name='Age')\n",
    "print(ages_series)"
   ],
   "metadata": {
    "collapsed": false,
    "pycharm": {
     "name": "#%%\n"
    }
   }
  },
  {
   "cell_type": "code",
   "execution_count": 5,
   "outputs": [
    {
     "name": "stdout",
     "output_type": "stream",
     "text": [
      "Anna    21\n",
      "Bob     20\n",
      "Jack    22\n",
      "Name: Age, dtype: int64\n"
     ]
    }
   ],
   "source": [
    "# dropping a data from series(immutable so new object will be created)\n",
    "# new_ages_series = ages_series.drop(index='Maria') or\n",
    "ages_series.drop(index='Maria', inplace=True)\n",
    "print(ages_series)"
   ],
   "metadata": {
    "collapsed": false,
    "pycharm": {
     "name": "#%%\n"
    }
   }
  },
  {
   "cell_type": "code",
   "execution_count": 6,
   "outputs": [],
   "source": [
    "# Operations\n",
    "algebra = {'Anna': 50, 'Bob': 90, 'Maria': 100, 'Jack': 90}\n",
    "calc = {'Anna': 100, 'Bob': 90, 'Maria': 80, 'Jack': 70}\n",
    "algebra_series = pd.Series(algebra, name='Algebra')\n",
    "calc_series = pd.Series(calc, name='Calculus')"
   ],
   "metadata": {
    "collapsed": false,
    "pycharm": {
     "name": "#%%\n"
    }
   }
  },
  {
   "cell_type": "code",
   "execution_count": 8,
   "outputs": [
    {
     "name": "stdout",
     "output_type": "stream",
     "text": [
      "Anna     75.0\n",
      "Bob      90.0\n",
      "Maria    90.0\n",
      "Jack     80.0\n",
      "dtype: float64\n"
     ]
    }
   ],
   "source": [
    "avg = 0.5*(calc_series + algebra_series)\n",
    "print(avg)"
   ],
   "metadata": {
    "collapsed": false,
    "pycharm": {
     "name": "#%%\n"
    }
   }
  },
  {
   "cell_type": "code",
   "execution_count": null,
   "outputs": [],
   "source": [],
   "metadata": {
    "collapsed": false,
    "pycharm": {
     "name": "#%%\n"
    }
   }
  }
 ],
 "metadata": {
  "kernelspec": {
   "display_name": "Python 3",
   "language": "python",
   "name": "python3"
  },
  "language_info": {
   "codemirror_mode": {
    "name": "ipython",
    "version": 2
   },
   "file_extension": ".py",
   "mimetype": "text/x-python",
   "name": "python",
   "nbconvert_exporter": "python",
   "pygments_lexer": "ipython2",
   "version": "2.7.6"
  }
 },
 "nbformat": 4,
 "nbformat_minor": 0
}