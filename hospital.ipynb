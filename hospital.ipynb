{
 "cells": [
  {
   "cell_type": "code",
   "execution_count": 12,
   "metadata": {
    "collapsed": true
   },
   "outputs": [],
   "source": [
    "import pandas as pd\n",
    "pd.set_option('display.max_columns', 8)"
   ]
  },
  {
   "cell_type": "code",
   "execution_count": 18,
   "outputs": [],
   "source": [
    "general = pd.read_csv('test/general.csv', index_col=0)\n",
    "# general = pd.read_csv('test/general.csv')\n",
    "prenatal = pd.read_csv('test/prenatal.csv', index_col=0)\n",
    "sports = pd.read_csv('test/sports.csv', index_col=0)"
   ],
   "metadata": {
    "collapsed": false,
    "pycharm": {
     "name": "#%%\n"
    }
   }
  },
  {
   "cell_type": "code",
   "execution_count": 19,
   "outputs": [],
   "source": [
    "# general.set_index(0, inplace=True)\n",
    "# general.reset_index(inplace=True, drop=True) # deleting an index"
   ],
   "metadata": {
    "collapsed": false,
    "pycharm": {
     "name": "#%%\n"
    }
   }
  },
  {
   "cell_type": "code",
   "execution_count": 20,
   "outputs": [
    {
     "data": {
      "text/plain": "   Hospital Male/female   age  height  ...  mri  xray children  months\n0    sports      female  20.0   5.871  ...    t     f      NaN     NaN\n1    sports      female  20.0   6.665  ...    f     t      NaN     NaN\n2    sports        male  16.0   6.960  ...    f     t      NaN     NaN\n3    sports        male  17.0   7.128  ...    t     f      NaN     NaN\n4    sports        male  19.0   5.993  ...    f     t      NaN     NaN\n5       NaN         NaN   NaN     NaN  ...  NaN   NaN      NaN     NaN\n6    sports      female  14.0   5.793  ...    t     f      NaN     NaN\n7    sports      female  22.0   7.351  ...    t     f      NaN     NaN\n8    sports      female  21.0   6.059  ...    f     t      NaN     NaN\n9    sports      female  18.0   5.338  ...    t     f      NaN     NaN\n10   sports        male  12.0   6.164  ...    f     t      NaN     NaN\n11   sports        male  15.0   6.181  ...    f     t      NaN     NaN\n12   sports      female  22.0   6.140  ...    f     f      NaN     NaN\n13   sports      female  19.0   5.929  ...    f     t      NaN     NaN\n14   sports      female  16.0   6.446  ...    f     t      NaN     NaN\n15   sports      female  19.0   6.592  ...    f     t      NaN     NaN\n16   sports        male  18.0   6.746  ...    f     t      NaN     NaN\n17   sports      female  18.0   6.083  ...    t     f      NaN     NaN\n18   sports        male  19.0   6.968  ...    f     t      NaN     NaN\n19   sports      female  17.0   6.183  ...    t     f      NaN     NaN\n\n[20 rows x 14 columns]",
      "text/html": "<div>\n<style scoped>\n    .dataframe tbody tr th:only-of-type {\n        vertical-align: middle;\n    }\n\n    .dataframe tbody tr th {\n        vertical-align: top;\n    }\n\n    .dataframe thead th {\n        text-align: right;\n    }\n</style>\n<table border=\"1\" class=\"dataframe\">\n  <thead>\n    <tr style=\"text-align: right;\">\n      <th></th>\n      <th>Hospital</th>\n      <th>Male/female</th>\n      <th>age</th>\n      <th>height</th>\n      <th>...</th>\n      <th>mri</th>\n      <th>xray</th>\n      <th>children</th>\n      <th>months</th>\n    </tr>\n  </thead>\n  <tbody>\n    <tr>\n      <th>0</th>\n      <td>sports</td>\n      <td>female</td>\n      <td>20.0</td>\n      <td>5.871</td>\n      <td>...</td>\n      <td>t</td>\n      <td>f</td>\n      <td>NaN</td>\n      <td>NaN</td>\n    </tr>\n    <tr>\n      <th>1</th>\n      <td>sports</td>\n      <td>female</td>\n      <td>20.0</td>\n      <td>6.665</td>\n      <td>...</td>\n      <td>f</td>\n      <td>t</td>\n      <td>NaN</td>\n      <td>NaN</td>\n    </tr>\n    <tr>\n      <th>2</th>\n      <td>sports</td>\n      <td>male</td>\n      <td>16.0</td>\n      <td>6.960</td>\n      <td>...</td>\n      <td>f</td>\n      <td>t</td>\n      <td>NaN</td>\n      <td>NaN</td>\n    </tr>\n    <tr>\n      <th>3</th>\n      <td>sports</td>\n      <td>male</td>\n      <td>17.0</td>\n      <td>7.128</td>\n      <td>...</td>\n      <td>t</td>\n      <td>f</td>\n      <td>NaN</td>\n      <td>NaN</td>\n    </tr>\n    <tr>\n      <th>4</th>\n      <td>sports</td>\n      <td>male</td>\n      <td>19.0</td>\n      <td>5.993</td>\n      <td>...</td>\n      <td>f</td>\n      <td>t</td>\n      <td>NaN</td>\n      <td>NaN</td>\n    </tr>\n    <tr>\n      <th>5</th>\n      <td>NaN</td>\n      <td>NaN</td>\n      <td>NaN</td>\n      <td>NaN</td>\n      <td>...</td>\n      <td>NaN</td>\n      <td>NaN</td>\n      <td>NaN</td>\n      <td>NaN</td>\n    </tr>\n    <tr>\n      <th>6</th>\n      <td>sports</td>\n      <td>female</td>\n      <td>14.0</td>\n      <td>5.793</td>\n      <td>...</td>\n      <td>t</td>\n      <td>f</td>\n      <td>NaN</td>\n      <td>NaN</td>\n    </tr>\n    <tr>\n      <th>7</th>\n      <td>sports</td>\n      <td>female</td>\n      <td>22.0</td>\n      <td>7.351</td>\n      <td>...</td>\n      <td>t</td>\n      <td>f</td>\n      <td>NaN</td>\n      <td>NaN</td>\n    </tr>\n    <tr>\n      <th>8</th>\n      <td>sports</td>\n      <td>female</td>\n      <td>21.0</td>\n      <td>6.059</td>\n      <td>...</td>\n      <td>f</td>\n      <td>t</td>\n      <td>NaN</td>\n      <td>NaN</td>\n    </tr>\n    <tr>\n      <th>9</th>\n      <td>sports</td>\n      <td>female</td>\n      <td>18.0</td>\n      <td>5.338</td>\n      <td>...</td>\n      <td>t</td>\n      <td>f</td>\n      <td>NaN</td>\n      <td>NaN</td>\n    </tr>\n    <tr>\n      <th>10</th>\n      <td>sports</td>\n      <td>male</td>\n      <td>12.0</td>\n      <td>6.164</td>\n      <td>...</td>\n      <td>f</td>\n      <td>t</td>\n      <td>NaN</td>\n      <td>NaN</td>\n    </tr>\n    <tr>\n      <th>11</th>\n      <td>sports</td>\n      <td>male</td>\n      <td>15.0</td>\n      <td>6.181</td>\n      <td>...</td>\n      <td>f</td>\n      <td>t</td>\n      <td>NaN</td>\n      <td>NaN</td>\n    </tr>\n    <tr>\n      <th>12</th>\n      <td>sports</td>\n      <td>female</td>\n      <td>22.0</td>\n      <td>6.140</td>\n      <td>...</td>\n      <td>f</td>\n      <td>f</td>\n      <td>NaN</td>\n      <td>NaN</td>\n    </tr>\n    <tr>\n      <th>13</th>\n      <td>sports</td>\n      <td>female</td>\n      <td>19.0</td>\n      <td>5.929</td>\n      <td>...</td>\n      <td>f</td>\n      <td>t</td>\n      <td>NaN</td>\n      <td>NaN</td>\n    </tr>\n    <tr>\n      <th>14</th>\n      <td>sports</td>\n      <td>female</td>\n      <td>16.0</td>\n      <td>6.446</td>\n      <td>...</td>\n      <td>f</td>\n      <td>t</td>\n      <td>NaN</td>\n      <td>NaN</td>\n    </tr>\n    <tr>\n      <th>15</th>\n      <td>sports</td>\n      <td>female</td>\n      <td>19.0</td>\n      <td>6.592</td>\n      <td>...</td>\n      <td>f</td>\n      <td>t</td>\n      <td>NaN</td>\n      <td>NaN</td>\n    </tr>\n    <tr>\n      <th>16</th>\n      <td>sports</td>\n      <td>male</td>\n      <td>18.0</td>\n      <td>6.746</td>\n      <td>...</td>\n      <td>f</td>\n      <td>t</td>\n      <td>NaN</td>\n      <td>NaN</td>\n    </tr>\n    <tr>\n      <th>17</th>\n      <td>sports</td>\n      <td>female</td>\n      <td>18.0</td>\n      <td>6.083</td>\n      <td>...</td>\n      <td>t</td>\n      <td>f</td>\n      <td>NaN</td>\n      <td>NaN</td>\n    </tr>\n    <tr>\n      <th>18</th>\n      <td>sports</td>\n      <td>male</td>\n      <td>19.0</td>\n      <td>6.968</td>\n      <td>...</td>\n      <td>f</td>\n      <td>t</td>\n      <td>NaN</td>\n      <td>NaN</td>\n    </tr>\n    <tr>\n      <th>19</th>\n      <td>sports</td>\n      <td>female</td>\n      <td>17.0</td>\n      <td>6.183</td>\n      <td>...</td>\n      <td>t</td>\n      <td>f</td>\n      <td>NaN</td>\n      <td>NaN</td>\n    </tr>\n  </tbody>\n</table>\n<p>20 rows × 14 columns</p>\n</div>"
     },
     "execution_count": 20,
     "metadata": {},
     "output_type": "execute_result"
    }
   ],
   "source": [
    "display_limit = 20\n",
    "\n",
    "general.head(display_limit)\n",
    "prenatal.head(display_limit)\n",
    "sports.head(display_limit)"
   ],
   "metadata": {
    "collapsed": false,
    "pycharm": {
     "name": "#%%\n"
    }
   }
  },
  {
   "cell_type": "code",
   "execution_count": 21,
   "outputs": [
    {
     "data": {
      "text/plain": "Index(['hospital', 'gender', 'age', 'height', 'weight', 'bmi', 'diagnosis',\n       'blood_test', 'ecg', 'ultrasound', 'mri', 'xray', 'children', 'months'],\n      dtype='object')"
     },
     "execution_count": 21,
     "metadata": {},
     "output_type": "execute_result"
    }
   ],
   "source": [
    "general.axes[1]\n"
   ],
   "metadata": {
    "collapsed": false,
    "pycharm": {
     "name": "#%%\n"
    }
   }
  },
  {
   "cell_type": "code",
   "execution_count": 22,
   "outputs": [
    {
     "data": {
      "text/plain": "Int64Index([  0,   1,   2,   3,   4,   5,   6,   7,   8,   9,\n            ...\n            451, 452, 453, 454, 455, 456, 457, 458, 459, 460],\n           dtype='int64', length=461)"
     },
     "execution_count": 22,
     "metadata": {},
     "output_type": "execute_result"
    }
   ],
   "source": [
    "general.index"
   ],
   "metadata": {
    "collapsed": false,
    "pycharm": {
     "name": "#%%\n"
    }
   }
  },
  {
   "cell_type": "code",
   "execution_count": null,
   "outputs": [],
   "source": [],
   "metadata": {
    "collapsed": false,
    "pycharm": {
     "name": "#%%\n"
    }
   }
  }
 ],
 "metadata": {
  "kernelspec": {
   "display_name": "Python 3",
   "language": "python",
   "name": "python3"
  },
  "language_info": {
   "codemirror_mode": {
    "name": "ipython",
    "version": 2
   },
   "file_extension": ".py",
   "mimetype": "text/x-python",
   "name": "python",
   "nbconvert_exporter": "python",
   "pygments_lexer": "ipython2",
   "version": "2.7.6"
  }
 },
 "nbformat": 4,
 "nbformat_minor": 0
}