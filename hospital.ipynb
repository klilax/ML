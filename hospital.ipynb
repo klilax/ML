{
 "cells": [
  {
   "cell_type": "code",
   "execution_count": 1,
   "metadata": {
    "collapsed": true
   },
   "outputs": [],
   "source": [
    "import pandas as pd"
   ]
  },
  {
   "cell_type": "code",
   "execution_count": 2,
   "outputs": [],
   "source": [
    "general = pd.read_csv('test/general.csv')\n",
    "prenatal = pd.read_csv('test/prenatal.csv')\n",
    "sports = pd.read_csv('test/sports.csv')\n",
    "pd.set_option('display.max_columns', 8)"
   ],
   "metadata": {
    "collapsed": false,
    "pycharm": {
     "name": "#%%\n"
    }
   }
  },
  {
   "cell_type": "code",
   "execution_count": 3,
   "outputs": [],
   "source": [
    "# general.set_index(0, inplace=True)\n",
    "# general.reset_index(inplace=True, drop=True) # deleting an index"
   ],
   "metadata": {
    "collapsed": false,
    "pycharm": {
     "name": "#%%\n"
    }
   }
  },
  {
   "cell_type": "code",
   "execution_count": 4,
   "outputs": [],
   "source": [
    "columns_name = ['', 'hospital', 'gender', 'age', 'height', 'weight', 'bmi', 'diagnosis', 'blood_test', 'ecg', 'ultrasound', 'mri', 'xray', 'children', 'months']\n",
    "prenatal.columns = columns_name\n",
    "sports.columns = columns_name"
   ],
   "metadata": {
    "collapsed": false,
    "pycharm": {
     "name": "#%%\n"
    }
   }
  },
  {
   "cell_type": "code",
   "execution_count": 5,
   "outputs": [],
   "source": [
    "hospital = pd.concat([general, prenatal, sports], ignore_index = True)\n",
    "# hospital.reset_index(inplace=True, drop=True) # deleting an index\n",
    "hospital.drop(columns=['Unnamed: 0', ''], inplace=True)"
   ],
   "metadata": {
    "collapsed": false,
    "pycharm": {
     "name": "#%%\n"
    }
   }
  },
  {
   "cell_type": "code",
   "execution_count": 6,
   "outputs": [
    {
     "data": {
      "text/plain": "     hospital  gender   age  height  ...  mri  xray children months\n928    sports    male  22.0   5.961  ...    t     f      NaN    NaN\n926    sports    male  26.0   5.804  ...    t     f      NaN    NaN\n901    sports  female  23.0   5.894  ...    t     f      NaN    NaN\n87    general     man  54.0   1.720  ...  NaN   NaN      NaN    NaN\n884    sports  female  20.0   6.771  ...    t     f      NaN    NaN\n297   general     man  56.0   1.480  ...  NaN   NaN      NaN    NaN\n112   general     man  77.0   1.690  ...  NaN   NaN      NaN    NaN\n209   general     man  29.0   2.080  ...  NaN   NaN      NaN    NaN\n419   general     man  53.0   1.700  ...  NaN   NaN      NaN    NaN\n913    sports  female  22.0   6.435  ...    t     f      NaN    NaN\n820    sports  female  17.0   5.722  ...    f     t      NaN    NaN\n861       NaN     NaN   NaN     NaN  ...  NaN   NaN      NaN    NaN\n10    general     man  27.0   1.850  ...  NaN   NaN      NaN    NaN\n56    general     man  23.0   1.650  ...  NaN   NaN      NaN    NaN\n618  prenatal     NaN  30.0   1.490  ...  NaN     f      0.0    2.0\n978    sports    male  17.0   5.647  ...    f     f      NaN    NaN\n373   general   woman  44.0   1.660  ...  NaN   NaN      NaN    NaN\n628  prenatal     NaN  24.0   1.610  ...  NaN     f      0.0    2.0\n858    sports    male  19.0   7.089  ...    f     t      NaN    NaN\n944    sports  female  21.0   6.217  ...    f     t      NaN    NaN\n\n[20 rows x 14 columns]",
      "text/html": "<div>\n<style scoped>\n    .dataframe tbody tr th:only-of-type {\n        vertical-align: middle;\n    }\n\n    .dataframe tbody tr th {\n        vertical-align: top;\n    }\n\n    .dataframe thead th {\n        text-align: right;\n    }\n</style>\n<table border=\"1\" class=\"dataframe\">\n  <thead>\n    <tr style=\"text-align: right;\">\n      <th></th>\n      <th>hospital</th>\n      <th>gender</th>\n      <th>age</th>\n      <th>height</th>\n      <th>...</th>\n      <th>mri</th>\n      <th>xray</th>\n      <th>children</th>\n      <th>months</th>\n    </tr>\n  </thead>\n  <tbody>\n    <tr>\n      <th>928</th>\n      <td>sports</td>\n      <td>male</td>\n      <td>22.0</td>\n      <td>5.961</td>\n      <td>...</td>\n      <td>t</td>\n      <td>f</td>\n      <td>NaN</td>\n      <td>NaN</td>\n    </tr>\n    <tr>\n      <th>926</th>\n      <td>sports</td>\n      <td>male</td>\n      <td>26.0</td>\n      <td>5.804</td>\n      <td>...</td>\n      <td>t</td>\n      <td>f</td>\n      <td>NaN</td>\n      <td>NaN</td>\n    </tr>\n    <tr>\n      <th>901</th>\n      <td>sports</td>\n      <td>female</td>\n      <td>23.0</td>\n      <td>5.894</td>\n      <td>...</td>\n      <td>t</td>\n      <td>f</td>\n      <td>NaN</td>\n      <td>NaN</td>\n    </tr>\n    <tr>\n      <th>87</th>\n      <td>general</td>\n      <td>man</td>\n      <td>54.0</td>\n      <td>1.720</td>\n      <td>...</td>\n      <td>NaN</td>\n      <td>NaN</td>\n      <td>NaN</td>\n      <td>NaN</td>\n    </tr>\n    <tr>\n      <th>884</th>\n      <td>sports</td>\n      <td>female</td>\n      <td>20.0</td>\n      <td>6.771</td>\n      <td>...</td>\n      <td>t</td>\n      <td>f</td>\n      <td>NaN</td>\n      <td>NaN</td>\n    </tr>\n    <tr>\n      <th>297</th>\n      <td>general</td>\n      <td>man</td>\n      <td>56.0</td>\n      <td>1.480</td>\n      <td>...</td>\n      <td>NaN</td>\n      <td>NaN</td>\n      <td>NaN</td>\n      <td>NaN</td>\n    </tr>\n    <tr>\n      <th>112</th>\n      <td>general</td>\n      <td>man</td>\n      <td>77.0</td>\n      <td>1.690</td>\n      <td>...</td>\n      <td>NaN</td>\n      <td>NaN</td>\n      <td>NaN</td>\n      <td>NaN</td>\n    </tr>\n    <tr>\n      <th>209</th>\n      <td>general</td>\n      <td>man</td>\n      <td>29.0</td>\n      <td>2.080</td>\n      <td>...</td>\n      <td>NaN</td>\n      <td>NaN</td>\n      <td>NaN</td>\n      <td>NaN</td>\n    </tr>\n    <tr>\n      <th>419</th>\n      <td>general</td>\n      <td>man</td>\n      <td>53.0</td>\n      <td>1.700</td>\n      <td>...</td>\n      <td>NaN</td>\n      <td>NaN</td>\n      <td>NaN</td>\n      <td>NaN</td>\n    </tr>\n    <tr>\n      <th>913</th>\n      <td>sports</td>\n      <td>female</td>\n      <td>22.0</td>\n      <td>6.435</td>\n      <td>...</td>\n      <td>t</td>\n      <td>f</td>\n      <td>NaN</td>\n      <td>NaN</td>\n    </tr>\n    <tr>\n      <th>820</th>\n      <td>sports</td>\n      <td>female</td>\n      <td>17.0</td>\n      <td>5.722</td>\n      <td>...</td>\n      <td>f</td>\n      <td>t</td>\n      <td>NaN</td>\n      <td>NaN</td>\n    </tr>\n    <tr>\n      <th>861</th>\n      <td>NaN</td>\n      <td>NaN</td>\n      <td>NaN</td>\n      <td>NaN</td>\n      <td>...</td>\n      <td>NaN</td>\n      <td>NaN</td>\n      <td>NaN</td>\n      <td>NaN</td>\n    </tr>\n    <tr>\n      <th>10</th>\n      <td>general</td>\n      <td>man</td>\n      <td>27.0</td>\n      <td>1.850</td>\n      <td>...</td>\n      <td>NaN</td>\n      <td>NaN</td>\n      <td>NaN</td>\n      <td>NaN</td>\n    </tr>\n    <tr>\n      <th>56</th>\n      <td>general</td>\n      <td>man</td>\n      <td>23.0</td>\n      <td>1.650</td>\n      <td>...</td>\n      <td>NaN</td>\n      <td>NaN</td>\n      <td>NaN</td>\n      <td>NaN</td>\n    </tr>\n    <tr>\n      <th>618</th>\n      <td>prenatal</td>\n      <td>NaN</td>\n      <td>30.0</td>\n      <td>1.490</td>\n      <td>...</td>\n      <td>NaN</td>\n      <td>f</td>\n      <td>0.0</td>\n      <td>2.0</td>\n    </tr>\n    <tr>\n      <th>978</th>\n      <td>sports</td>\n      <td>male</td>\n      <td>17.0</td>\n      <td>5.647</td>\n      <td>...</td>\n      <td>f</td>\n      <td>f</td>\n      <td>NaN</td>\n      <td>NaN</td>\n    </tr>\n    <tr>\n      <th>373</th>\n      <td>general</td>\n      <td>woman</td>\n      <td>44.0</td>\n      <td>1.660</td>\n      <td>...</td>\n      <td>NaN</td>\n      <td>NaN</td>\n      <td>NaN</td>\n      <td>NaN</td>\n    </tr>\n    <tr>\n      <th>628</th>\n      <td>prenatal</td>\n      <td>NaN</td>\n      <td>24.0</td>\n      <td>1.610</td>\n      <td>...</td>\n      <td>NaN</td>\n      <td>f</td>\n      <td>0.0</td>\n      <td>2.0</td>\n    </tr>\n    <tr>\n      <th>858</th>\n      <td>sports</td>\n      <td>male</td>\n      <td>19.0</td>\n      <td>7.089</td>\n      <td>...</td>\n      <td>f</td>\n      <td>t</td>\n      <td>NaN</td>\n      <td>NaN</td>\n    </tr>\n    <tr>\n      <th>944</th>\n      <td>sports</td>\n      <td>female</td>\n      <td>21.0</td>\n      <td>6.217</td>\n      <td>...</td>\n      <td>f</td>\n      <td>t</td>\n      <td>NaN</td>\n      <td>NaN</td>\n    </tr>\n  </tbody>\n</table>\n<p>20 rows × 14 columns</p>\n</div>"
     },
     "execution_count": 6,
     "metadata": {},
     "output_type": "execute_result"
    }
   ],
   "source": [
    "hospital.sample(n=20, random_state=30)"
   ],
   "metadata": {
    "collapsed": false,
    "pycharm": {
     "name": "#%%\n"
    }
   }
  },
  {
   "cell_type": "code",
   "execution_count": 38,
   "outputs": [],
   "source": [
    "hospital['hospital'] = hospital.groupby('hospital')"
   ],
   "metadata": {
    "collapsed": false,
    "pycharm": {
     "name": "#%%\n"
    }
   }
  }
 ],
 "metadata": {
  "kernelspec": {
   "display_name": "Python 3",
   "language": "python",
   "name": "python3"
  },
  "language_info": {
   "codemirror_mode": {
    "name": "ipython",
    "version": 2
   },
   "file_extension": ".py",
   "mimetype": "text/x-python",
   "name": "python",
   "nbconvert_exporter": "python",
   "pygments_lexer": "ipython2",
   "version": "2.7.6"
  }
 },
 "nbformat": 4,
 "nbformat_minor": 0
}