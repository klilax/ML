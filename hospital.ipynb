{
 "cells": [
  {
   "cell_type": "code",
   "execution_count": 86,
   "metadata": {
    "collapsed": true
   },
   "outputs": [],
   "source": [
    "import pandas as pd"
   ]
  },
  {
   "cell_type": "code",
   "execution_count": 87,
   "outputs": [],
   "source": [
    "general = pd.read_csv('test/general.csv')\n",
    "prenatal = pd.read_csv('test/prenatal.csv')\n",
    "sports = pd.read_csv('test/sports.csv')\n",
    "pd.set_option('display.max_columns', 8)"
   ],
   "metadata": {
    "collapsed": false,
    "pycharm": {
     "name": "#%%\n"
    }
   }
  },
  {
   "cell_type": "code",
   "execution_count": 88,
   "outputs": [],
   "source": [
    "# general.set_index(0, inplace=True)\n",
    "# general.reset_index(inplace=True, drop=True) # deleting an index"
   ],
   "metadata": {
    "collapsed": false,
    "pycharm": {
     "name": "#%%\n"
    }
   }
  },
  {
   "cell_type": "code",
   "execution_count": 89,
   "outputs": [],
   "source": [
    "columns_name = ['', 'hospital', 'gender', 'age', 'height', 'weight', 'bmi', 'diagnosis', 'blood_test', 'ecg', 'ultrasound', 'mri', 'xray', 'children', 'months']\n",
    "prenatal.columns = columns_name\n",
    "sports.columns = columns_name"
   ],
   "metadata": {
    "collapsed": false,
    "pycharm": {
     "name": "#%%\n"
    }
   }
  },
  {
   "cell_type": "code",
   "execution_count": 90,
   "outputs": [],
   "source": [
    "hospital = pd.concat([general, prenatal, sports], ignore_index = True)\n",
    "# hospital.reset_index(inplace=True, drop=True) # deleting an index\n",
    "hospital.drop(columns=['Unnamed: 0', ''], inplace=True)"
   ],
   "metadata": {
    "collapsed": false,
    "pycharm": {
     "name": "#%%\n"
    }
   }
  },
  {
   "cell_type": "code",
   "execution_count": 91,
   "outputs": [
    {
     "data": {
      "text/plain": "     hospital  gender   age  height  ...  mri  xray children months\n928    sports    male  22.0   5.961  ...    t     f      NaN    NaN\n926    sports    male  26.0   5.804  ...    t     f      NaN    NaN\n901    sports  female  23.0   5.894  ...    t     f      NaN    NaN\n87    general     man  54.0   1.720  ...  NaN   NaN      NaN    NaN\n884    sports  female  20.0   6.771  ...    t     f      NaN    NaN\n297   general     man  56.0   1.480  ...  NaN   NaN      NaN    NaN\n112   general     man  77.0   1.690  ...  NaN   NaN      NaN    NaN\n209   general     man  29.0   2.080  ...  NaN   NaN      NaN    NaN\n419   general     man  53.0   1.700  ...  NaN   NaN      NaN    NaN\n913    sports  female  22.0   6.435  ...    t     f      NaN    NaN\n820    sports  female  17.0   5.722  ...    f     t      NaN    NaN\n861       NaN     NaN   NaN     NaN  ...  NaN   NaN      NaN    NaN\n10    general     man  27.0   1.850  ...  NaN   NaN      NaN    NaN\n56    general     man  23.0   1.650  ...  NaN   NaN      NaN    NaN\n618  prenatal     NaN  30.0   1.490  ...  NaN     f      0.0    2.0\n978    sports    male  17.0   5.647  ...    f     f      NaN    NaN\n373   general   woman  44.0   1.660  ...  NaN   NaN      NaN    NaN\n628  prenatal     NaN  24.0   1.610  ...  NaN     f      0.0    2.0\n858    sports    male  19.0   7.089  ...    f     t      NaN    NaN\n944    sports  female  21.0   6.217  ...    f     t      NaN    NaN\n\n[20 rows x 14 columns]",
      "text/html": "<div>\n<style scoped>\n    .dataframe tbody tr th:only-of-type {\n        vertical-align: middle;\n    }\n\n    .dataframe tbody tr th {\n        vertical-align: top;\n    }\n\n    .dataframe thead th {\n        text-align: right;\n    }\n</style>\n<table border=\"1\" class=\"dataframe\">\n  <thead>\n    <tr style=\"text-align: right;\">\n      <th></th>\n      <th>hospital</th>\n      <th>gender</th>\n      <th>age</th>\n      <th>height</th>\n      <th>...</th>\n      <th>mri</th>\n      <th>xray</th>\n      <th>children</th>\n      <th>months</th>\n    </tr>\n  </thead>\n  <tbody>\n    <tr>\n      <th>928</th>\n      <td>sports</td>\n      <td>male</td>\n      <td>22.0</td>\n      <td>5.961</td>\n      <td>...</td>\n      <td>t</td>\n      <td>f</td>\n      <td>NaN</td>\n      <td>NaN</td>\n    </tr>\n    <tr>\n      <th>926</th>\n      <td>sports</td>\n      <td>male</td>\n      <td>26.0</td>\n      <td>5.804</td>\n      <td>...</td>\n      <td>t</td>\n      <td>f</td>\n      <td>NaN</td>\n      <td>NaN</td>\n    </tr>\n    <tr>\n      <th>901</th>\n      <td>sports</td>\n      <td>female</td>\n      <td>23.0</td>\n      <td>5.894</td>\n      <td>...</td>\n      <td>t</td>\n      <td>f</td>\n      <td>NaN</td>\n      <td>NaN</td>\n    </tr>\n    <tr>\n      <th>87</th>\n      <td>general</td>\n      <td>man</td>\n      <td>54.0</td>\n      <td>1.720</td>\n      <td>...</td>\n      <td>NaN</td>\n      <td>NaN</td>\n      <td>NaN</td>\n      <td>NaN</td>\n    </tr>\n    <tr>\n      <th>884</th>\n      <td>sports</td>\n      <td>female</td>\n      <td>20.0</td>\n      <td>6.771</td>\n      <td>...</td>\n      <td>t</td>\n      <td>f</td>\n      <td>NaN</td>\n      <td>NaN</td>\n    </tr>\n    <tr>\n      <th>297</th>\n      <td>general</td>\n      <td>man</td>\n      <td>56.0</td>\n      <td>1.480</td>\n      <td>...</td>\n      <td>NaN</td>\n      <td>NaN</td>\n      <td>NaN</td>\n      <td>NaN</td>\n    </tr>\n    <tr>\n      <th>112</th>\n      <td>general</td>\n      <td>man</td>\n      <td>77.0</td>\n      <td>1.690</td>\n      <td>...</td>\n      <td>NaN</td>\n      <td>NaN</td>\n      <td>NaN</td>\n      <td>NaN</td>\n    </tr>\n    <tr>\n      <th>209</th>\n      <td>general</td>\n      <td>man</td>\n      <td>29.0</td>\n      <td>2.080</td>\n      <td>...</td>\n      <td>NaN</td>\n      <td>NaN</td>\n      <td>NaN</td>\n      <td>NaN</td>\n    </tr>\n    <tr>\n      <th>419</th>\n      <td>general</td>\n      <td>man</td>\n      <td>53.0</td>\n      <td>1.700</td>\n      <td>...</td>\n      <td>NaN</td>\n      <td>NaN</td>\n      <td>NaN</td>\n      <td>NaN</td>\n    </tr>\n    <tr>\n      <th>913</th>\n      <td>sports</td>\n      <td>female</td>\n      <td>22.0</td>\n      <td>6.435</td>\n      <td>...</td>\n      <td>t</td>\n      <td>f</td>\n      <td>NaN</td>\n      <td>NaN</td>\n    </tr>\n    <tr>\n      <th>820</th>\n      <td>sports</td>\n      <td>female</td>\n      <td>17.0</td>\n      <td>5.722</td>\n      <td>...</td>\n      <td>f</td>\n      <td>t</td>\n      <td>NaN</td>\n      <td>NaN</td>\n    </tr>\n    <tr>\n      <th>861</th>\n      <td>NaN</td>\n      <td>NaN</td>\n      <td>NaN</td>\n      <td>NaN</td>\n      <td>...</td>\n      <td>NaN</td>\n      <td>NaN</td>\n      <td>NaN</td>\n      <td>NaN</td>\n    </tr>\n    <tr>\n      <th>10</th>\n      <td>general</td>\n      <td>man</td>\n      <td>27.0</td>\n      <td>1.850</td>\n      <td>...</td>\n      <td>NaN</td>\n      <td>NaN</td>\n      <td>NaN</td>\n      <td>NaN</td>\n    </tr>\n    <tr>\n      <th>56</th>\n      <td>general</td>\n      <td>man</td>\n      <td>23.0</td>\n      <td>1.650</td>\n      <td>...</td>\n      <td>NaN</td>\n      <td>NaN</td>\n      <td>NaN</td>\n      <td>NaN</td>\n    </tr>\n    <tr>\n      <th>618</th>\n      <td>prenatal</td>\n      <td>NaN</td>\n      <td>30.0</td>\n      <td>1.490</td>\n      <td>...</td>\n      <td>NaN</td>\n      <td>f</td>\n      <td>0.0</td>\n      <td>2.0</td>\n    </tr>\n    <tr>\n      <th>978</th>\n      <td>sports</td>\n      <td>male</td>\n      <td>17.0</td>\n      <td>5.647</td>\n      <td>...</td>\n      <td>f</td>\n      <td>f</td>\n      <td>NaN</td>\n      <td>NaN</td>\n    </tr>\n    <tr>\n      <th>373</th>\n      <td>general</td>\n      <td>woman</td>\n      <td>44.0</td>\n      <td>1.660</td>\n      <td>...</td>\n      <td>NaN</td>\n      <td>NaN</td>\n      <td>NaN</td>\n      <td>NaN</td>\n    </tr>\n    <tr>\n      <th>628</th>\n      <td>prenatal</td>\n      <td>NaN</td>\n      <td>24.0</td>\n      <td>1.610</td>\n      <td>...</td>\n      <td>NaN</td>\n      <td>f</td>\n      <td>0.0</td>\n      <td>2.0</td>\n    </tr>\n    <tr>\n      <th>858</th>\n      <td>sports</td>\n      <td>male</td>\n      <td>19.0</td>\n      <td>7.089</td>\n      <td>...</td>\n      <td>f</td>\n      <td>t</td>\n      <td>NaN</td>\n      <td>NaN</td>\n    </tr>\n    <tr>\n      <th>944</th>\n      <td>sports</td>\n      <td>female</td>\n      <td>21.0</td>\n      <td>6.217</td>\n      <td>...</td>\n      <td>f</td>\n      <td>t</td>\n      <td>NaN</td>\n      <td>NaN</td>\n    </tr>\n  </tbody>\n</table>\n<p>20 rows × 14 columns</p>\n</div>"
     },
     "execution_count": 91,
     "metadata": {},
     "output_type": "execute_result"
    }
   ],
   "source": [
    "hospital.sample(n=20, random_state=30)"
   ],
   "metadata": {
    "collapsed": false,
    "pycharm": {
     "name": "#%%\n"
    }
   }
  },
  {
   "cell_type": "code",
   "execution_count": 93,
   "outputs": [
    {
     "data": {
      "text/plain": "(1000, 14)"
     },
     "execution_count": 93,
     "metadata": {},
     "output_type": "execute_result"
    }
   ],
   "source": [
    "hospital.dropna(axis=0, how='all', inplace=True)"
   ],
   "metadata": {
    "collapsed": false,
    "pycharm": {
     "name": "#%%\n"
    }
   }
  },
  {
   "cell_type": "code",
   "execution_count": 94,
   "outputs": [
    {
     "data": {
      "text/plain": "     hospital  gender   age  height  ...  mri  xray children months\n929    sports  female  23.0   6.809  ...    t     f      0.0    0.0\n927    sports    male  21.0   6.052  ...    t     f      0.0    0.0\n516  prenatal     NaN  20.0   1.650  ...    0     f      1.0    4.0\n87    general     man  54.0   1.720  ...    0     0      0.0    0.0\n885    sports  female  16.0   5.915  ...    t     f      0.0    0.0\n463  prenatal     NaN  34.0   1.650  ...    0     f      1.0    5.0\n112   general     man  77.0   1.690  ...    0     0      0.0    0.0\n297   general     man  56.0   1.480  ...    0     0      0.0    0.0\n417   general   woman  26.0   1.650  ...    0     0      0.0    0.0\n660  prenatal     NaN  38.0   1.590  ...    0     f      1.0    4.0\n344   general   woman  60.0   1.410  ...    0     0      0.0    0.0\n834    sports  female  21.0   5.585  ...    f     t      0.0    0.0\n10    general     man  27.0   1.850  ...    0     0      0.0    0.0\n56    general     man  23.0   1.650  ...    0     0      0.0    0.0\n616  prenatal     NaN  33.0   1.770  ...    0     f      1.0    7.0\n479  prenatal     NaN  35.0   1.810  ...    0     f      1.0    8.0\n578  prenatal     NaN  31.0   1.770  ...    0     f      1.0    8.0\n411   general     man  26.0   1.610  ...    0     0      0.0    0.0\n521  prenatal     NaN  30.0   1.740  ...    0     f      1.0    3.0\n941    sports  female  25.0   6.208  ...    f     t      0.0    0.0\n\n[20 rows x 14 columns]",
      "text/html": "<div>\n<style scoped>\n    .dataframe tbody tr th:only-of-type {\n        vertical-align: middle;\n    }\n\n    .dataframe tbody tr th {\n        vertical-align: top;\n    }\n\n    .dataframe thead th {\n        text-align: right;\n    }\n</style>\n<table border=\"1\" class=\"dataframe\">\n  <thead>\n    <tr style=\"text-align: right;\">\n      <th></th>\n      <th>hospital</th>\n      <th>gender</th>\n      <th>age</th>\n      <th>height</th>\n      <th>...</th>\n      <th>mri</th>\n      <th>xray</th>\n      <th>children</th>\n      <th>months</th>\n    </tr>\n  </thead>\n  <tbody>\n    <tr>\n      <th>929</th>\n      <td>sports</td>\n      <td>female</td>\n      <td>23.0</td>\n      <td>6.809</td>\n      <td>...</td>\n      <td>t</td>\n      <td>f</td>\n      <td>0.0</td>\n      <td>0.0</td>\n    </tr>\n    <tr>\n      <th>927</th>\n      <td>sports</td>\n      <td>male</td>\n      <td>21.0</td>\n      <td>6.052</td>\n      <td>...</td>\n      <td>t</td>\n      <td>f</td>\n      <td>0.0</td>\n      <td>0.0</td>\n    </tr>\n    <tr>\n      <th>516</th>\n      <td>prenatal</td>\n      <td>NaN</td>\n      <td>20.0</td>\n      <td>1.650</td>\n      <td>...</td>\n      <td>0</td>\n      <td>f</td>\n      <td>1.0</td>\n      <td>4.0</td>\n    </tr>\n    <tr>\n      <th>87</th>\n      <td>general</td>\n      <td>man</td>\n      <td>54.0</td>\n      <td>1.720</td>\n      <td>...</td>\n      <td>0</td>\n      <td>0</td>\n      <td>0.0</td>\n      <td>0.0</td>\n    </tr>\n    <tr>\n      <th>885</th>\n      <td>sports</td>\n      <td>female</td>\n      <td>16.0</td>\n      <td>5.915</td>\n      <td>...</td>\n      <td>t</td>\n      <td>f</td>\n      <td>0.0</td>\n      <td>0.0</td>\n    </tr>\n    <tr>\n      <th>463</th>\n      <td>prenatal</td>\n      <td>NaN</td>\n      <td>34.0</td>\n      <td>1.650</td>\n      <td>...</td>\n      <td>0</td>\n      <td>f</td>\n      <td>1.0</td>\n      <td>5.0</td>\n    </tr>\n    <tr>\n      <th>112</th>\n      <td>general</td>\n      <td>man</td>\n      <td>77.0</td>\n      <td>1.690</td>\n      <td>...</td>\n      <td>0</td>\n      <td>0</td>\n      <td>0.0</td>\n      <td>0.0</td>\n    </tr>\n    <tr>\n      <th>297</th>\n      <td>general</td>\n      <td>man</td>\n      <td>56.0</td>\n      <td>1.480</td>\n      <td>...</td>\n      <td>0</td>\n      <td>0</td>\n      <td>0.0</td>\n      <td>0.0</td>\n    </tr>\n    <tr>\n      <th>417</th>\n      <td>general</td>\n      <td>woman</td>\n      <td>26.0</td>\n      <td>1.650</td>\n      <td>...</td>\n      <td>0</td>\n      <td>0</td>\n      <td>0.0</td>\n      <td>0.0</td>\n    </tr>\n    <tr>\n      <th>660</th>\n      <td>prenatal</td>\n      <td>NaN</td>\n      <td>38.0</td>\n      <td>1.590</td>\n      <td>...</td>\n      <td>0</td>\n      <td>f</td>\n      <td>1.0</td>\n      <td>4.0</td>\n    </tr>\n    <tr>\n      <th>344</th>\n      <td>general</td>\n      <td>woman</td>\n      <td>60.0</td>\n      <td>1.410</td>\n      <td>...</td>\n      <td>0</td>\n      <td>0</td>\n      <td>0.0</td>\n      <td>0.0</td>\n    </tr>\n    <tr>\n      <th>834</th>\n      <td>sports</td>\n      <td>female</td>\n      <td>21.0</td>\n      <td>5.585</td>\n      <td>...</td>\n      <td>f</td>\n      <td>t</td>\n      <td>0.0</td>\n      <td>0.0</td>\n    </tr>\n    <tr>\n      <th>10</th>\n      <td>general</td>\n      <td>man</td>\n      <td>27.0</td>\n      <td>1.850</td>\n      <td>...</td>\n      <td>0</td>\n      <td>0</td>\n      <td>0.0</td>\n      <td>0.0</td>\n    </tr>\n    <tr>\n      <th>56</th>\n      <td>general</td>\n      <td>man</td>\n      <td>23.0</td>\n      <td>1.650</td>\n      <td>...</td>\n      <td>0</td>\n      <td>0</td>\n      <td>0.0</td>\n      <td>0.0</td>\n    </tr>\n    <tr>\n      <th>616</th>\n      <td>prenatal</td>\n      <td>NaN</td>\n      <td>33.0</td>\n      <td>1.770</td>\n      <td>...</td>\n      <td>0</td>\n      <td>f</td>\n      <td>1.0</td>\n      <td>7.0</td>\n    </tr>\n    <tr>\n      <th>479</th>\n      <td>prenatal</td>\n      <td>NaN</td>\n      <td>35.0</td>\n      <td>1.810</td>\n      <td>...</td>\n      <td>0</td>\n      <td>f</td>\n      <td>1.0</td>\n      <td>8.0</td>\n    </tr>\n    <tr>\n      <th>578</th>\n      <td>prenatal</td>\n      <td>NaN</td>\n      <td>31.0</td>\n      <td>1.770</td>\n      <td>...</td>\n      <td>0</td>\n      <td>f</td>\n      <td>1.0</td>\n      <td>8.0</td>\n    </tr>\n    <tr>\n      <th>411</th>\n      <td>general</td>\n      <td>man</td>\n      <td>26.0</td>\n      <td>1.610</td>\n      <td>...</td>\n      <td>0</td>\n      <td>0</td>\n      <td>0.0</td>\n      <td>0.0</td>\n    </tr>\n    <tr>\n      <th>521</th>\n      <td>prenatal</td>\n      <td>NaN</td>\n      <td>30.0</td>\n      <td>1.740</td>\n      <td>...</td>\n      <td>0</td>\n      <td>f</td>\n      <td>1.0</td>\n      <td>3.0</td>\n    </tr>\n    <tr>\n      <th>941</th>\n      <td>sports</td>\n      <td>female</td>\n      <td>25.0</td>\n      <td>6.208</td>\n      <td>...</td>\n      <td>f</td>\n      <td>t</td>\n      <td>0.0</td>\n      <td>0.0</td>\n    </tr>\n  </tbody>\n</table>\n<p>20 rows × 14 columns</p>\n</div>"
     },
     "execution_count": 94,
     "metadata": {},
     "output_type": "execute_result"
    }
   ],
   "source": [
    "# hospital[['bmi', 'diagnosis', 'blood_test', 'ecg', 'ultrasound', 'mri', 'xray', 'children', 'months']].fillna(0, inplace=True)\n",
    "hospital[['bmi', 'diagnosis', 'blood_test', 'ecg', 'ultrasound', 'mri', 'xray', 'children', 'months']] = hospital[['bmi', 'diagnosis', 'blood_test', 'ecg', 'ultrasound', 'mri', 'xray', 'children', 'months']].fillna(0)\n",
    "hospital.sample(n=20, random_state=30)"
   ],
   "metadata": {
    "collapsed": false,
    "pycharm": {
     "name": "#%%\n"
    }
   }
  },
  {
   "cell_type": "code",
   "execution_count": 98,
   "outputs": [
    {
     "data": {
      "text/plain": "     hospital gender   age  height  ...  mri  xray children months\n929    sports      f  23.0   6.809  ...    t     f      0.0    0.0\n927    sports      m  21.0   6.052  ...    t     f      0.0    0.0\n516  prenatal      f  20.0   1.650  ...    0     f      1.0    4.0\n87    general      m  54.0   1.720  ...    0     0      0.0    0.0\n885    sports      f  16.0   5.915  ...    t     f      0.0    0.0\n463  prenatal      f  34.0   1.650  ...    0     f      1.0    5.0\n112   general      m  77.0   1.690  ...    0     0      0.0    0.0\n297   general      m  56.0   1.480  ...    0     0      0.0    0.0\n417   general      f  26.0   1.650  ...    0     0      0.0    0.0\n660  prenatal      f  38.0   1.590  ...    0     f      1.0    4.0\n344   general      f  60.0   1.410  ...    0     0      0.0    0.0\n834    sports      f  21.0   5.585  ...    f     t      0.0    0.0\n10    general      m  27.0   1.850  ...    0     0      0.0    0.0\n56    general      m  23.0   1.650  ...    0     0      0.0    0.0\n616  prenatal      f  33.0   1.770  ...    0     f      1.0    7.0\n479  prenatal      f  35.0   1.810  ...    0     f      1.0    8.0\n578  prenatal      f  31.0   1.770  ...    0     f      1.0    8.0\n411   general      m  26.0   1.610  ...    0     0      0.0    0.0\n521  prenatal      f  30.0   1.740  ...    0     f      1.0    3.0\n941    sports      f  25.0   6.208  ...    f     t      0.0    0.0\n\n[20 rows x 14 columns]",
      "text/html": "<div>\n<style scoped>\n    .dataframe tbody tr th:only-of-type {\n        vertical-align: middle;\n    }\n\n    .dataframe tbody tr th {\n        vertical-align: top;\n    }\n\n    .dataframe thead th {\n        text-align: right;\n    }\n</style>\n<table border=\"1\" class=\"dataframe\">\n  <thead>\n    <tr style=\"text-align: right;\">\n      <th></th>\n      <th>hospital</th>\n      <th>gender</th>\n      <th>age</th>\n      <th>height</th>\n      <th>...</th>\n      <th>mri</th>\n      <th>xray</th>\n      <th>children</th>\n      <th>months</th>\n    </tr>\n  </thead>\n  <tbody>\n    <tr>\n      <th>929</th>\n      <td>sports</td>\n      <td>f</td>\n      <td>23.0</td>\n      <td>6.809</td>\n      <td>...</td>\n      <td>t</td>\n      <td>f</td>\n      <td>0.0</td>\n      <td>0.0</td>\n    </tr>\n    <tr>\n      <th>927</th>\n      <td>sports</td>\n      <td>m</td>\n      <td>21.0</td>\n      <td>6.052</td>\n      <td>...</td>\n      <td>t</td>\n      <td>f</td>\n      <td>0.0</td>\n      <td>0.0</td>\n    </tr>\n    <tr>\n      <th>516</th>\n      <td>prenatal</td>\n      <td>f</td>\n      <td>20.0</td>\n      <td>1.650</td>\n      <td>...</td>\n      <td>0</td>\n      <td>f</td>\n      <td>1.0</td>\n      <td>4.0</td>\n    </tr>\n    <tr>\n      <th>87</th>\n      <td>general</td>\n      <td>m</td>\n      <td>54.0</td>\n      <td>1.720</td>\n      <td>...</td>\n      <td>0</td>\n      <td>0</td>\n      <td>0.0</td>\n      <td>0.0</td>\n    </tr>\n    <tr>\n      <th>885</th>\n      <td>sports</td>\n      <td>f</td>\n      <td>16.0</td>\n      <td>5.915</td>\n      <td>...</td>\n      <td>t</td>\n      <td>f</td>\n      <td>0.0</td>\n      <td>0.0</td>\n    </tr>\n    <tr>\n      <th>463</th>\n      <td>prenatal</td>\n      <td>f</td>\n      <td>34.0</td>\n      <td>1.650</td>\n      <td>...</td>\n      <td>0</td>\n      <td>f</td>\n      <td>1.0</td>\n      <td>5.0</td>\n    </tr>\n    <tr>\n      <th>112</th>\n      <td>general</td>\n      <td>m</td>\n      <td>77.0</td>\n      <td>1.690</td>\n      <td>...</td>\n      <td>0</td>\n      <td>0</td>\n      <td>0.0</td>\n      <td>0.0</td>\n    </tr>\n    <tr>\n      <th>297</th>\n      <td>general</td>\n      <td>m</td>\n      <td>56.0</td>\n      <td>1.480</td>\n      <td>...</td>\n      <td>0</td>\n      <td>0</td>\n      <td>0.0</td>\n      <td>0.0</td>\n    </tr>\n    <tr>\n      <th>417</th>\n      <td>general</td>\n      <td>f</td>\n      <td>26.0</td>\n      <td>1.650</td>\n      <td>...</td>\n      <td>0</td>\n      <td>0</td>\n      <td>0.0</td>\n      <td>0.0</td>\n    </tr>\n    <tr>\n      <th>660</th>\n      <td>prenatal</td>\n      <td>f</td>\n      <td>38.0</td>\n      <td>1.590</td>\n      <td>...</td>\n      <td>0</td>\n      <td>f</td>\n      <td>1.0</td>\n      <td>4.0</td>\n    </tr>\n    <tr>\n      <th>344</th>\n      <td>general</td>\n      <td>f</td>\n      <td>60.0</td>\n      <td>1.410</td>\n      <td>...</td>\n      <td>0</td>\n      <td>0</td>\n      <td>0.0</td>\n      <td>0.0</td>\n    </tr>\n    <tr>\n      <th>834</th>\n      <td>sports</td>\n      <td>f</td>\n      <td>21.0</td>\n      <td>5.585</td>\n      <td>...</td>\n      <td>f</td>\n      <td>t</td>\n      <td>0.0</td>\n      <td>0.0</td>\n    </tr>\n    <tr>\n      <th>10</th>\n      <td>general</td>\n      <td>m</td>\n      <td>27.0</td>\n      <td>1.850</td>\n      <td>...</td>\n      <td>0</td>\n      <td>0</td>\n      <td>0.0</td>\n      <td>0.0</td>\n    </tr>\n    <tr>\n      <th>56</th>\n      <td>general</td>\n      <td>m</td>\n      <td>23.0</td>\n      <td>1.650</td>\n      <td>...</td>\n      <td>0</td>\n      <td>0</td>\n      <td>0.0</td>\n      <td>0.0</td>\n    </tr>\n    <tr>\n      <th>616</th>\n      <td>prenatal</td>\n      <td>f</td>\n      <td>33.0</td>\n      <td>1.770</td>\n      <td>...</td>\n      <td>0</td>\n      <td>f</td>\n      <td>1.0</td>\n      <td>7.0</td>\n    </tr>\n    <tr>\n      <th>479</th>\n      <td>prenatal</td>\n      <td>f</td>\n      <td>35.0</td>\n      <td>1.810</td>\n      <td>...</td>\n      <td>0</td>\n      <td>f</td>\n      <td>1.0</td>\n      <td>8.0</td>\n    </tr>\n    <tr>\n      <th>578</th>\n      <td>prenatal</td>\n      <td>f</td>\n      <td>31.0</td>\n      <td>1.770</td>\n      <td>...</td>\n      <td>0</td>\n      <td>f</td>\n      <td>1.0</td>\n      <td>8.0</td>\n    </tr>\n    <tr>\n      <th>411</th>\n      <td>general</td>\n      <td>m</td>\n      <td>26.0</td>\n      <td>1.610</td>\n      <td>...</td>\n      <td>0</td>\n      <td>0</td>\n      <td>0.0</td>\n      <td>0.0</td>\n    </tr>\n    <tr>\n      <th>521</th>\n      <td>prenatal</td>\n      <td>f</td>\n      <td>30.0</td>\n      <td>1.740</td>\n      <td>...</td>\n      <td>0</td>\n      <td>f</td>\n      <td>1.0</td>\n      <td>3.0</td>\n    </tr>\n    <tr>\n      <th>941</th>\n      <td>sports</td>\n      <td>f</td>\n      <td>25.0</td>\n      <td>6.208</td>\n      <td>...</td>\n      <td>f</td>\n      <td>t</td>\n      <td>0.0</td>\n      <td>0.0</td>\n    </tr>\n  </tbody>\n</table>\n<p>20 rows × 14 columns</p>\n</div>"
     },
     "execution_count": 98,
     "metadata": {},
     "output_type": "execute_result"
    }
   ],
   "source": [
    "hospital['gender'] = hospital.groupby('hospital')['gender'].fillna('f')\n",
    "hospital['gender'].replace(['female', 'woman'], 'f', inplace=True)\n",
    "hospital['gender'].replace(['man', 'male'], 'm', inplace=True)\n",
    "hospital.sample(n=20, random_state=30)"
   ],
   "metadata": {
    "collapsed": false,
    "pycharm": {
     "name": "#%%\n"
    }
   }
  },
  {
   "cell_type": "code",
   "execution_count": 95,
   "outputs": [],
   "source": [],
   "metadata": {
    "collapsed": false,
    "pycharm": {
     "name": "#%%\n"
    }
   }
  }
 ],
 "metadata": {
  "kernelspec": {
   "display_name": "Python 3",
   "language": "python",
   "name": "python3"
  },
  "language_info": {
   "codemirror_mode": {
    "name": "ipython",
    "version": 2
   },
   "file_extension": ".py",
   "mimetype": "text/x-python",
   "name": "python",
   "nbconvert_exporter": "python",
   "pygments_lexer": "ipython2",
   "version": "2.7.6"
  }
 },
 "nbformat": 4,
 "nbformat_minor": 0
}