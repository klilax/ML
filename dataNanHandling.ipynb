{
 "cells": [
  {
   "cell_type": "code",
   "execution_count": 33,
   "metadata": {
    "collapsed": true
   },
   "outputs": [],
   "source": [
    "import pandas as pd\n",
    "apt_df = pd.read_csv('dataset/input_2.txt')"
   ]
  },
  {
   "cell_type": "code",
   "execution_count": 34,
   "outputs": [
    {
     "data": {
      "text/plain": "   livingsp  nonlivingsp  totsp  price\n0        63           32    NaN    159\n1        35           28   63.0    104\n2        71           30    NaN    109\n3        61           35   96.0    135\n4        36           18    NaN    147",
      "text/html": "<div>\n<style scoped>\n    .dataframe tbody tr th:only-of-type {\n        vertical-align: middle;\n    }\n\n    .dataframe tbody tr th {\n        vertical-align: top;\n    }\n\n    .dataframe thead th {\n        text-align: right;\n    }\n</style>\n<table border=\"1\" class=\"dataframe\">\n  <thead>\n    <tr style=\"text-align: right;\">\n      <th></th>\n      <th>livingsp</th>\n      <th>nonlivingsp</th>\n      <th>totsp</th>\n      <th>price</th>\n    </tr>\n  </thead>\n  <tbody>\n    <tr>\n      <th>0</th>\n      <td>63</td>\n      <td>32</td>\n      <td>NaN</td>\n      <td>159</td>\n    </tr>\n    <tr>\n      <th>1</th>\n      <td>35</td>\n      <td>28</td>\n      <td>63.0</td>\n      <td>104</td>\n    </tr>\n    <tr>\n      <th>2</th>\n      <td>71</td>\n      <td>30</td>\n      <td>NaN</td>\n      <td>109</td>\n    </tr>\n    <tr>\n      <th>3</th>\n      <td>61</td>\n      <td>35</td>\n      <td>96.0</td>\n      <td>135</td>\n    </tr>\n    <tr>\n      <th>4</th>\n      <td>36</td>\n      <td>18</td>\n      <td>NaN</td>\n      <td>147</td>\n    </tr>\n  </tbody>\n</table>\n</div>"
     },
     "execution_count": 34,
     "metadata": {},
     "output_type": "execute_result"
    }
   ],
   "source": [
    "apt_df.head()"
   ],
   "metadata": {
    "collapsed": false,
    "pycharm": {
     "name": "#%%\n"
    }
   }
  },
  {
   "cell_type": "code",
   "execution_count": 35,
   "outputs": [
    {
     "data": {
      "text/plain": "   livingsp  nonlivingsp  totsp  price\n0        63           32     95    159\n1        35           28     63    104\n2        71           30    101    109\n3        61           35     96    135\n4        36           18     54    147",
      "text/html": "<div>\n<style scoped>\n    .dataframe tbody tr th:only-of-type {\n        vertical-align: middle;\n    }\n\n    .dataframe tbody tr th {\n        vertical-align: top;\n    }\n\n    .dataframe thead th {\n        text-align: right;\n    }\n</style>\n<table border=\"1\" class=\"dataframe\">\n  <thead>\n    <tr style=\"text-align: right;\">\n      <th></th>\n      <th>livingsp</th>\n      <th>nonlivingsp</th>\n      <th>totsp</th>\n      <th>price</th>\n    </tr>\n  </thead>\n  <tbody>\n    <tr>\n      <th>0</th>\n      <td>63</td>\n      <td>32</td>\n      <td>95</td>\n      <td>159</td>\n    </tr>\n    <tr>\n      <th>1</th>\n      <td>35</td>\n      <td>28</td>\n      <td>63</td>\n      <td>104</td>\n    </tr>\n    <tr>\n      <th>2</th>\n      <td>71</td>\n      <td>30</td>\n      <td>101</td>\n      <td>109</td>\n    </tr>\n    <tr>\n      <th>3</th>\n      <td>61</td>\n      <td>35</td>\n      <td>96</td>\n      <td>135</td>\n    </tr>\n    <tr>\n      <th>4</th>\n      <td>36</td>\n      <td>18</td>\n      <td>54</td>\n      <td>147</td>\n    </tr>\n  </tbody>\n</table>\n</div>"
     },
     "execution_count": 35,
     "metadata": {},
     "output_type": "execute_result"
    }
   ],
   "source": [
    "totsp = apt_df['livingsp'] + apt_df['nonlivingsp']\n",
    "apt_df['totsp'] = totsp\n",
    "apt_df.head()"
   ],
   "metadata": {
    "collapsed": false,
    "pycharm": {
     "name": "#%%\n"
    }
   }
  },
  {
   "cell_type": "code",
   "execution_count": 36,
   "outputs": [
    {
     "data": {
      "text/plain": "577"
     },
     "execution_count": 36,
     "metadata": {},
     "output_type": "execute_result"
    }
   ],
   "source": [
    "apt_df['totsp'].sum()"
   ],
   "metadata": {
    "collapsed": false,
    "pycharm": {
     "name": "#%%\n"
    }
   }
  },
  {
   "cell_type": "code",
   "execution_count": 43,
   "outputs": [
    {
     "data": {
      "text/plain": "    location  price  height\n0  Skilltown    166     NaN\n1  Hypercity    193    25.5\n2  Skilltown    171    12.9\n3  Skilltown    132    19.3\n4  Hypercity    146     NaN",
      "text/html": "<div>\n<style scoped>\n    .dataframe tbody tr th:only-of-type {\n        vertical-align: middle;\n    }\n\n    .dataframe tbody tr th {\n        vertical-align: top;\n    }\n\n    .dataframe thead th {\n        text-align: right;\n    }\n</style>\n<table border=\"1\" class=\"dataframe\">\n  <thead>\n    <tr style=\"text-align: right;\">\n      <th></th>\n      <th>location</th>\n      <th>price</th>\n      <th>height</th>\n    </tr>\n  </thead>\n  <tbody>\n    <tr>\n      <th>0</th>\n      <td>Skilltown</td>\n      <td>166</td>\n      <td>NaN</td>\n    </tr>\n    <tr>\n      <th>1</th>\n      <td>Hypercity</td>\n      <td>193</td>\n      <td>25.5</td>\n    </tr>\n    <tr>\n      <th>2</th>\n      <td>Skilltown</td>\n      <td>171</td>\n      <td>12.9</td>\n    </tr>\n    <tr>\n      <th>3</th>\n      <td>Skilltown</td>\n      <td>132</td>\n      <td>19.3</td>\n    </tr>\n    <tr>\n      <th>4</th>\n      <td>Hypercity</td>\n      <td>146</td>\n      <td>NaN</td>\n    </tr>\n  </tbody>\n</table>\n</div>"
     },
     "execution_count": 43,
     "metadata": {},
     "output_type": "execute_result"
    }
   ],
   "source": [
    "building_df = pd.read_csv('dataset/input_3.csv')\n",
    "building_df.head()"
   ],
   "metadata": {
    "collapsed": false,
    "pycharm": {
     "name": "#%%\n"
    }
   }
  },
  {
   "cell_type": "code",
   "execution_count": 44,
   "outputs": [
    {
     "data": {
      "text/plain": "           height\nlocation         \nHypercity    33.3\nSkilltown    12.8",
      "text/html": "<div>\n<style scoped>\n    .dataframe tbody tr th:only-of-type {\n        vertical-align: middle;\n    }\n\n    .dataframe tbody tr th {\n        vertical-align: top;\n    }\n\n    .dataframe thead th {\n        text-align: right;\n    }\n</style>\n<table border=\"1\" class=\"dataframe\">\n  <thead>\n    <tr style=\"text-align: right;\">\n      <th></th>\n      <th>height</th>\n    </tr>\n    <tr>\n      <th>location</th>\n      <th></th>\n    </tr>\n  </thead>\n  <tbody>\n    <tr>\n      <th>Hypercity</th>\n      <td>33.3</td>\n    </tr>\n    <tr>\n      <th>Skilltown</th>\n      <td>12.8</td>\n    </tr>\n  </tbody>\n</table>\n</div>"
     },
     "execution_count": 44,
     "metadata": {},
     "output_type": "execute_result"
    }
   ],
   "source": [
    "building_df.groupby('location').agg({'height': 'mean'})"
   ],
   "metadata": {
    "collapsed": false,
    "pycharm": {
     "name": "#%%\n"
    }
   }
  },
  {
   "cell_type": "code",
   "execution_count": 45,
   "outputs": [
    {
     "data": {
      "text/plain": "525.0"
     },
     "execution_count": 45,
     "metadata": {},
     "output_type": "execute_result"
    }
   ],
   "source": [
    "building_df['height'] = building_df.groupby('location')['height'].apply(lambda x: x.fillna(x.mean()))\n",
    "building_df['height'].sum()"
   ],
   "metadata": {
    "collapsed": false,
    "pycharm": {
     "name": "#%%\n"
    }
   }
  },
  {
   "cell_type": "code",
   "execution_count": 46,
   "outputs": [
    {
     "data": {
      "text/plain": "    location  building_age  room_num\n0        NaN            43         3\n1  Hypercity            99         5\n2        NaN            46         3\n3    Jetburg            59         3\n4  Hypercity            43         3",
      "text/html": "<div>\n<style scoped>\n    .dataframe tbody tr th:only-of-type {\n        vertical-align: middle;\n    }\n\n    .dataframe tbody tr th {\n        vertical-align: top;\n    }\n\n    .dataframe thead th {\n        text-align: right;\n    }\n</style>\n<table border=\"1\" class=\"dataframe\">\n  <thead>\n    <tr style=\"text-align: right;\">\n      <th></th>\n      <th>location</th>\n      <th>building_age</th>\n      <th>room_num</th>\n    </tr>\n  </thead>\n  <tbody>\n    <tr>\n      <th>0</th>\n      <td>NaN</td>\n      <td>43</td>\n      <td>3</td>\n    </tr>\n    <tr>\n      <th>1</th>\n      <td>Hypercity</td>\n      <td>99</td>\n      <td>5</td>\n    </tr>\n    <tr>\n      <th>2</th>\n      <td>NaN</td>\n      <td>46</td>\n      <td>3</td>\n    </tr>\n    <tr>\n      <th>3</th>\n      <td>Jetburg</td>\n      <td>59</td>\n      <td>3</td>\n    </tr>\n    <tr>\n      <th>4</th>\n      <td>Hypercity</td>\n      <td>43</td>\n      <td>3</td>\n    </tr>\n  </tbody>\n</table>\n</div>"
     },
     "execution_count": 46,
     "metadata": {},
     "output_type": "execute_result"
    }
   ],
   "source": [
    "bld_df =pd.read_csv('dataset/input_4.csv')\n",
    "bld_df.head()"
   ],
   "metadata": {
    "collapsed": false,
    "pycharm": {
     "name": "#%%\n"
    }
   }
  },
  {
   "cell_type": "code",
   "execution_count": 48,
   "outputs": [
    {
     "name": "stdout",
     "output_type": "stream",
     "text": [
      "    location  building_age  room_num\n",
      "0  Hypercity            43         3\n",
      "1  Hypercity            99         5\n",
      "2  Hypercity            46         3\n",
      "3    Jetburg            59         3\n",
      "4  Hypercity            43         3\n"
     ]
    }
   ],
   "source": [
    "mode_loc = bld_df['location'].mode()[0]\n",
    "bld_df['location'].fillna(mode_loc, inplace=True)\n",
    "print(bld_df.head())"
   ],
   "metadata": {
    "collapsed": false,
    "pycharm": {
     "name": "#%%\n"
    }
   }
  },
  {
   "cell_type": "code",
   "execution_count": null,
   "outputs": [],
   "source": [],
   "metadata": {
    "collapsed": false,
    "pycharm": {
     "name": "#%%\n"
    }
   }
  }
 ],
 "metadata": {
  "kernelspec": {
   "display_name": "Python 3",
   "language": "python",
   "name": "python3"
  },
  "language_info": {
   "codemirror_mode": {
    "name": "ipython",
    "version": 2
   },
   "file_extension": ".py",
   "mimetype": "text/x-python",
   "name": "python",
   "nbconvert_exporter": "python",
   "pygments_lexer": "ipython2",
   "version": "2.7.6"
  }
 },
 "nbformat": 4,
 "nbformat_minor": 0
}