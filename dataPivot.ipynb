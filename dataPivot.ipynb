{
 "cells": [
  {
   "cell_type": "code",
   "execution_count": 1,
   "metadata": {
    "collapsed": true
   },
   "outputs": [
    {
     "data": {
      "text/plain": "    mpg  cylinders  displacement  horsepower  weight  acceleration  \\\n0  18.0          8         307.0       130.0    3504          12.0   \n1  15.0          8         350.0       165.0    3693          11.5   \n2  18.0          8         318.0       150.0    3436          11.0   \n3  16.0          8         304.0       150.0    3433          12.0   \n4  17.0          8         302.0       140.0    3449          10.5   \n\n   model_year origin                       name  \n0          70    usa  chevrolet chevelle malibu  \n1          70    usa          buick skylark 320  \n2          70    usa         plymouth satellite  \n3          70    usa              amc rebel sst  \n4          70    usa                ford torino  ",
      "text/html": "<div>\n<style scoped>\n    .dataframe tbody tr th:only-of-type {\n        vertical-align: middle;\n    }\n\n    .dataframe tbody tr th {\n        vertical-align: top;\n    }\n\n    .dataframe thead th {\n        text-align: right;\n    }\n</style>\n<table border=\"1\" class=\"dataframe\">\n  <thead>\n    <tr style=\"text-align: right;\">\n      <th></th>\n      <th>mpg</th>\n      <th>cylinders</th>\n      <th>displacement</th>\n      <th>horsepower</th>\n      <th>weight</th>\n      <th>acceleration</th>\n      <th>model_year</th>\n      <th>origin</th>\n      <th>name</th>\n    </tr>\n  </thead>\n  <tbody>\n    <tr>\n      <th>0</th>\n      <td>18.0</td>\n      <td>8</td>\n      <td>307.0</td>\n      <td>130.0</td>\n      <td>3504</td>\n      <td>12.0</td>\n      <td>70</td>\n      <td>usa</td>\n      <td>chevrolet chevelle malibu</td>\n    </tr>\n    <tr>\n      <th>1</th>\n      <td>15.0</td>\n      <td>8</td>\n      <td>350.0</td>\n      <td>165.0</td>\n      <td>3693</td>\n      <td>11.5</td>\n      <td>70</td>\n      <td>usa</td>\n      <td>buick skylark 320</td>\n    </tr>\n    <tr>\n      <th>2</th>\n      <td>18.0</td>\n      <td>8</td>\n      <td>318.0</td>\n      <td>150.0</td>\n      <td>3436</td>\n      <td>11.0</td>\n      <td>70</td>\n      <td>usa</td>\n      <td>plymouth satellite</td>\n    </tr>\n    <tr>\n      <th>3</th>\n      <td>16.0</td>\n      <td>8</td>\n      <td>304.0</td>\n      <td>150.0</td>\n      <td>3433</td>\n      <td>12.0</td>\n      <td>70</td>\n      <td>usa</td>\n      <td>amc rebel sst</td>\n    </tr>\n    <tr>\n      <th>4</th>\n      <td>17.0</td>\n      <td>8</td>\n      <td>302.0</td>\n      <td>140.0</td>\n      <td>3449</td>\n      <td>10.5</td>\n      <td>70</td>\n      <td>usa</td>\n      <td>ford torino</td>\n    </tr>\n  </tbody>\n</table>\n</div>"
     },
     "execution_count": 1,
     "metadata": {},
     "output_type": "execute_result"
    }
   ],
   "source": [
    "import pandas as pd\n",
    "df = pd.read_csv('https://raw.githubusercontent.com/mwaskom/seaborn-data/master/mpg.csv')\n",
    "df.head()"
   ]
  },
  {
   "cell_type": "code",
   "execution_count": 2,
   "outputs": [
    {
     "data": {
      "text/plain": "model_year     70     71     72     73     74     75     76     77     78  \\\norigin                                                                      \neurope       86.2   74.0   79.6   81.9   74.2   89.5   87.6   81.0   99.2   \njapan        91.5   79.2   93.8   98.5   72.5   80.2   76.5   81.2   79.2   \nusa         167.0  119.8  138.8  146.6  112.1  108.7  110.5  118.4  107.3   \n\nmodel_year     79    80    81    82  \norigin                               \neurope       72.0  66.8  76.7  63.0  \njapan        65.0  78.8  78.3  74.0  \nusa         109.4  88.8  84.5  86.9  ",
      "text/html": "<div>\n<style scoped>\n    .dataframe tbody tr th:only-of-type {\n        vertical-align: middle;\n    }\n\n    .dataframe tbody tr th {\n        vertical-align: top;\n    }\n\n    .dataframe thead th {\n        text-align: right;\n    }\n</style>\n<table border=\"1\" class=\"dataframe\">\n  <thead>\n    <tr style=\"text-align: right;\">\n      <th>model_year</th>\n      <th>70</th>\n      <th>71</th>\n      <th>72</th>\n      <th>73</th>\n      <th>74</th>\n      <th>75</th>\n      <th>76</th>\n      <th>77</th>\n      <th>78</th>\n      <th>79</th>\n      <th>80</th>\n      <th>81</th>\n      <th>82</th>\n    </tr>\n    <tr>\n      <th>origin</th>\n      <th></th>\n      <th></th>\n      <th></th>\n      <th></th>\n      <th></th>\n      <th></th>\n      <th></th>\n      <th></th>\n      <th></th>\n      <th></th>\n      <th></th>\n      <th></th>\n      <th></th>\n    </tr>\n  </thead>\n  <tbody>\n    <tr>\n      <th>europe</th>\n      <td>86.2</td>\n      <td>74.0</td>\n      <td>79.6</td>\n      <td>81.9</td>\n      <td>74.2</td>\n      <td>89.5</td>\n      <td>87.6</td>\n      <td>81.0</td>\n      <td>99.2</td>\n      <td>72.0</td>\n      <td>66.8</td>\n      <td>76.7</td>\n      <td>63.0</td>\n    </tr>\n    <tr>\n      <th>japan</th>\n      <td>91.5</td>\n      <td>79.2</td>\n      <td>93.8</td>\n      <td>98.5</td>\n      <td>72.5</td>\n      <td>80.2</td>\n      <td>76.5</td>\n      <td>81.2</td>\n      <td>79.2</td>\n      <td>65.0</td>\n      <td>78.8</td>\n      <td>78.3</td>\n      <td>74.0</td>\n    </tr>\n    <tr>\n      <th>usa</th>\n      <td>167.0</td>\n      <td>119.8</td>\n      <td>138.8</td>\n      <td>146.6</td>\n      <td>112.1</td>\n      <td>108.7</td>\n      <td>110.5</td>\n      <td>118.4</td>\n      <td>107.3</td>\n      <td>109.4</td>\n      <td>88.8</td>\n      <td>84.5</td>\n      <td>86.9</td>\n    </tr>\n  </tbody>\n</table>\n</div>"
     },
     "execution_count": 2,
     "metadata": {},
     "output_type": "execute_result"
    }
   ],
   "source": [
    "df.pivot_table(index='origin', columns='model_year', values='horsepower').round(1)"
   ],
   "metadata": {
    "collapsed": false,
    "pycharm": {
     "name": "#%%\n"
    }
   }
  },
  {
   "cell_type": "code",
   "execution_count": 3,
   "outputs": [
    {
     "data": {
      "text/plain": "origin      europe  japan\nmodel_year               \n74            75.0   66.0\n75            91.5   85.5\n76            84.5   72.5\n77            78.0   72.5\n78           109.0   82.5\n79            71.0   65.0\n81            76.0   71.0",
      "text/html": "<div>\n<style scoped>\n    .dataframe tbody tr th:only-of-type {\n        vertical-align: middle;\n    }\n\n    .dataframe tbody tr th {\n        vertical-align: top;\n    }\n\n    .dataframe thead th {\n        text-align: right;\n    }\n</style>\n<table border=\"1\" class=\"dataframe\">\n  <thead>\n    <tr style=\"text-align: right;\">\n      <th>origin</th>\n      <th>europe</th>\n      <th>japan</th>\n    </tr>\n    <tr>\n      <th>model_year</th>\n      <th></th>\n      <th></th>\n    </tr>\n  </thead>\n  <tbody>\n    <tr>\n      <th>74</th>\n      <td>75.0</td>\n      <td>66.0</td>\n    </tr>\n    <tr>\n      <th>75</th>\n      <td>91.5</td>\n      <td>85.5</td>\n    </tr>\n    <tr>\n      <th>76</th>\n      <td>84.5</td>\n      <td>72.5</td>\n    </tr>\n    <tr>\n      <th>77</th>\n      <td>78.0</td>\n      <td>72.5</td>\n    </tr>\n    <tr>\n      <th>78</th>\n      <td>109.0</td>\n      <td>82.5</td>\n    </tr>\n    <tr>\n      <th>79</th>\n      <td>71.0</td>\n      <td>65.0</td>\n    </tr>\n    <tr>\n      <th>81</th>\n      <td>76.0</td>\n      <td>71.0</td>\n    </tr>\n  </tbody>\n</table>\n</div>"
     },
     "execution_count": 3,
     "metadata": {},
     "output_type": "execute_result"
    }
   ],
   "source": [
    "pivot_median_hp = df.pivot_table(index='model_year',\n",
    "                               columns='origin',\n",
    "                               values='horsepower',\n",
    "                               aggfunc='median')\n",
    "pivot_median_hp.loc[pivot_median_hp.europe > pivot_median_hp.japan,\n",
    "                    ['europe', 'japan']]"
   ],
   "metadata": {
    "collapsed": false,
    "pycharm": {
     "name": "#%%\n"
    }
   }
  },
  {
   "cell_type": "markdown",
   "source": [
    "this comment"
   ],
   "metadata": {
    "collapsed": false
   }
  },
  {
   "cell_type": "code",
   "execution_count": 6,
   "outputs": [
    {
     "data": {
      "text/plain": "   Unnamed: 0  null_deg    60_deg    90_deg   180_deg   240_deg labels\n0           0  0.003734  0.331083  0.376222  0.456175  0.056430      R\n1           1  0.896600  0.954655  0.576145  0.430408  0.422968      M\n2           2  0.709749  0.871608  0.683438  0.869313  0.629918      M\n3           3  0.530373  0.481962  0.171037  0.133341  0.015256      R\n4           4  0.842670  0.620699  0.478177  0.908468  0.730154      M",
      "text/html": "<div>\n<style scoped>\n    .dataframe tbody tr th:only-of-type {\n        vertical-align: middle;\n    }\n\n    .dataframe tbody tr th {\n        vertical-align: top;\n    }\n\n    .dataframe thead th {\n        text-align: right;\n    }\n</style>\n<table border=\"1\" class=\"dataframe\">\n  <thead>\n    <tr style=\"text-align: right;\">\n      <th></th>\n      <th>Unnamed: 0</th>\n      <th>null_deg</th>\n      <th>60_deg</th>\n      <th>90_deg</th>\n      <th>180_deg</th>\n      <th>240_deg</th>\n      <th>labels</th>\n    </tr>\n  </thead>\n  <tbody>\n    <tr>\n      <th>0</th>\n      <td>0</td>\n      <td>0.003734</td>\n      <td>0.331083</td>\n      <td>0.376222</td>\n      <td>0.456175</td>\n      <td>0.056430</td>\n      <td>R</td>\n    </tr>\n    <tr>\n      <th>1</th>\n      <td>1</td>\n      <td>0.896600</td>\n      <td>0.954655</td>\n      <td>0.576145</td>\n      <td>0.430408</td>\n      <td>0.422968</td>\n      <td>M</td>\n    </tr>\n    <tr>\n      <th>2</th>\n      <td>2</td>\n      <td>0.709749</td>\n      <td>0.871608</td>\n      <td>0.683438</td>\n      <td>0.869313</td>\n      <td>0.629918</td>\n      <td>M</td>\n    </tr>\n    <tr>\n      <th>3</th>\n      <td>3</td>\n      <td>0.530373</td>\n      <td>0.481962</td>\n      <td>0.171037</td>\n      <td>0.133341</td>\n      <td>0.015256</td>\n      <td>R</td>\n    </tr>\n    <tr>\n      <th>4</th>\n      <td>4</td>\n      <td>0.842670</td>\n      <td>0.620699</td>\n      <td>0.478177</td>\n      <td>0.908468</td>\n      <td>0.730154</td>\n      <td>M</td>\n    </tr>\n  </tbody>\n</table>\n</div>"
     },
     "execution_count": 6,
     "metadata": {},
     "output_type": "execute_result"
    }
   ],
   "source": [
    "sonar_df = pd.read_csv('dataset/input_5.csv')\n",
    "sonar_df.head()"
   ],
   "metadata": {
    "collapsed": false,
    "pycharm": {
     "name": "#%%\n"
    }
   }
  },
  {
   "cell_type": "code",
   "execution_count": 10,
   "outputs": [
    {
     "data": {
      "text/plain": "        null_deg\nlabels          \nM           0.76\nR           0.31",
      "text/html": "<div>\n<style scoped>\n    .dataframe tbody tr th:only-of-type {\n        vertical-align: middle;\n    }\n\n    .dataframe tbody tr th {\n        vertical-align: top;\n    }\n\n    .dataframe thead th {\n        text-align: right;\n    }\n</style>\n<table border=\"1\" class=\"dataframe\">\n  <thead>\n    <tr style=\"text-align: right;\">\n      <th></th>\n      <th>null_deg</th>\n    </tr>\n    <tr>\n      <th>labels</th>\n      <th></th>\n    </tr>\n  </thead>\n  <tbody>\n    <tr>\n      <th>M</th>\n      <td>0.76</td>\n    </tr>\n    <tr>\n      <th>R</th>\n      <td>0.31</td>\n    </tr>\n  </tbody>\n</table>\n</div>"
     },
     "execution_count": 10,
     "metadata": {},
     "output_type": "execute_result"
    }
   ],
   "source": [
    "sonar_df.pivot_table(\n",
    "    index='labels',\n",
    "    values='null_deg',\n",
    "    aggfunc='mean'\n",
    ").round(2)"
   ],
   "metadata": {
    "collapsed": false,
    "pycharm": {
     "name": "#%%\n"
    }
   }
  },
  {
   "cell_type": "code",
   "execution_count": null,
   "outputs": [],
   "source": [],
   "metadata": {
    "collapsed": false,
    "pycharm": {
     "name": "#%%\n"
    }
   }
  }
 ],
 "metadata": {
  "kernelspec": {
   "display_name": "Python 3",
   "language": "python",
   "name": "python3"
  },
  "language_info": {
   "codemirror_mode": {
    "name": "ipython",
    "version": 2
   },
   "file_extension": ".py",
   "mimetype": "text/x-python",
   "name": "python",
   "nbconvert_exporter": "python",
   "pygments_lexer": "ipython2",
   "version": "2.7.6"
  }
 },
 "nbformat": 4,
 "nbformat_minor": 0
}